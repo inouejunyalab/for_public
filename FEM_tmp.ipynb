{
  "cells": [
    {
      "cell_type": "markdown",
      "metadata": {
        "id": "view-in-github",
        "colab_type": "text"
      },
      "source": [
        "<a href=\"https://colab.research.google.com/github/noguchisatoshi/for_public/blob/main/FEM_tmp.ipynb\" target=\"_parent\"><img src=\"https://colab.research.google.com/assets/colab-badge.svg\" alt=\"Open In Colab\"/></a>"
      ]
    },
    {
      "cell_type": "code",
      "execution_count": null,
      "metadata": {
        "id": "TAjxYqcRjakP"
      },
      "outputs": [],
      "source": [
        "# https://qiita.com/Altaka4128/items/41101c96729b68d7c96f"
      ]
    },
    {
      "cell_type": "markdown",
      "metadata": {
        "id": "dzGZF2AC6P8g"
      },
      "source": [
        "### Some modules"
      ]
    },
    {
      "cell_type": "code",
      "execution_count": null,
      "metadata": {
        "id": "0ydivXFZZhOU"
      },
      "outputs": [],
      "source": [
        "# 3次元節点格納用のクラス\n",
        "class Node:\n",
        "\n",
        "    # コンストラクタ\n",
        "    # no : 節点番号\n",
        "    # x  : x座標\n",
        "    # y  : y座標\n",
        "    # z  : z座標\n",
        "    def __init__(self, no, x, y, z):\n",
        "        self.no = no   # 節点番号\n",
        "        self.x = x     # x座標\n",
        "        self.y = y     # y座標\n",
        "        self.z = z     # z座標\n",
        "\n",
        "    # 節点の情報を表示する\n",
        "    def printNode(self):\n",
        "        print(\"Node No: %d, x: %f, y: %f, z: %f\" % (self.no, self.x, self.y, self.z))"
      ]
    },
    {
      "cell_type": "code",
      "execution_count": null,
      "metadata": {
        "id": "I736yNUiZmkN"
      },
      "outputs": [],
      "source": [
        "import numpy as np\n",
        "\n",
        "class Dmatrix:\n",
        "    # コンストラクタ\n",
        "    # young   : ヤング率\n",
        "    # poisson : ポアソン比\n",
        "    def __init__(self, young, poisson):\n",
        "        self.young = young\n",
        "        self.poisson = poisson\n",
        "\n",
        "    # 弾性状態のDマトリクスを作成する\n",
        "    def makeDematrix(self):\n",
        "\n",
        "        tmp = self.young / ((1.0 + self.poisson) * (1.0 - 2.0 * self.poisson))\n",
        "        matD = np.array([[1.0 - self.poisson, self.poisson, self.poisson, 0.0, 0.0, 0.0],\n",
        "                         [self.poisson, 1.0 - self.poisson, self.poisson, 0.0, 0.0, 0.0],\n",
        "                         [self.poisson, self.poisson, 1.0 - self.poisson, 0.0, 0.0, 0.0],\n",
        "                         [0.0, 0.0, 0.0, 0.5 * (1.0 - 2.0 * self.poisson), 0.0, 0.0],\n",
        "                         [0.0, 0.0, 0.0, 0.0, 0.5 * (1.0 - 2.0 * self.poisson), 0.0],\n",
        "                         [0.0, 0.0, 0.0, 0.0, 0.0, 0.5 * (1.0 - 2.0 * self.poisson)]])\n",
        "        matD = tmp * matD\n",
        "\n",
        "        return matD"
      ]
    },
    {
      "cell_type": "code",
      "execution_count": null,
      "metadata": {
        "id": "5j8-XKBGZojQ"
      },
      "outputs": [],
      "source": [
        "import numpy as np\n",
        "import numpy.linalg as LA\n",
        "#from Dmatrix import Dmatrix\n",
        "#from Node import Node\n",
        "\n",
        "# 四面体4節点要素のクラス\n",
        "class C3D4:\n",
        "    # コンストラクタ\n",
        "    # no           : 要素番号\n",
        "    # nodes        : 節点の集合(Node型のリスト)\n",
        "    # young        : ヤング率\n",
        "    # poisson      : ポアソン比\n",
        "    # density      : 密度\n",
        "    # vecGravity   : 重力加速度のベクトル(np.array型)\n",
        "    def __init__(self, no, nodes, young, poisson, density, vecGravity = None):\n",
        "\n",
        "        # インスタンス変数を定義する\n",
        "        self.nodeNum = 4               # 節点の数\n",
        "        self.nodeDof = 3               # 節点の自由度\n",
        "        self.no = no                   # 要素番号\n",
        "        self.nodes = nodes             # nodesは反時計回りの順番になっている前提(Node2d型のリスト形式)\n",
        "        self.young = young             # ヤング率\n",
        "        self.poisson = poisson         # ポアソン比\n",
        "        self.density = density         # 密度\n",
        "        self.vecGravity = vecGravity   # 重力加速度のベクトル(np.array型)\n",
        "        self.ipNum = 1                 # 積分点の数\n",
        "        self.w = 1.0 / 6.0             # 積分点の重み係数\n",
        "        self.ai = 1.0 / 4.0            # 積分点の座標(a,b,c座標系)\n",
        "        self.bi = 1.0 / 4.0            # 積分点の座標(a,b,c座標系)\n",
        "        self.ci = 1.0 / 4.0            # 積分点の座標(a,b,c座標系)\n",
        "\n",
        "    # 要素剛性マトリクスKeを作成する\n",
        "    def makeKematrix(self):\n",
        "\n",
        "        # ヤコビ行列を計算する\n",
        "        matJ = self.makeJmatrix()\n",
        "\n",
        "        # Bマトリクスを計算する\n",
        "        matB = self.makeBmatrix()\n",
        "\n",
        "        # Dマトリクスを計算する\n",
        "        matD = self.makeDmatrix()\n",
        "\n",
        "        # Ketマトリクスをガウス積分で計算する\n",
        "        matKet = self.w * matB.T @ matD @ matB * LA.det(matJ)\n",
        "\n",
        "        return matKet\n",
        "\n",
        "    # Dマトリクスを作成する\n",
        "    def makeDmatrix(self):\n",
        "\n",
        "        matD = Dmatrix(self.young, self.poisson).makeDematrix()\n",
        "        return matD\n",
        "\n",
        "    # ヤコビ行列を計算する\n",
        "    def makeJmatrix(self):\n",
        "\n",
        "        dxda = -self.nodes[0].x + self.nodes[1].x\n",
        "        dyda = -self.nodes[0].y + self.nodes[1].y\n",
        "        dzda = -self.nodes[0].z + self.nodes[1].z\n",
        "        dxdb = -self.nodes[0].x + self.nodes[2].x\n",
        "        dydb = -self.nodes[0].y + self.nodes[2].y\n",
        "        dzdb = -self.nodes[0].z + self.nodes[2].z\n",
        "        dxdc = -self.nodes[0].x + self.nodes[3].x\n",
        "        dydc = -self.nodes[0].y + self.nodes[3].y\n",
        "        dzdc = -self.nodes[0].z + self.nodes[3].z\n",
        "\n",
        "        matJ = np.array([[dxda, dyda, dzda],\n",
        "                         [dxdb, dydb, dzdb],\n",
        "                         [dxdc, dydc, dzdc]])        \n",
        "\n",
        "        # ヤコビアンが負にならないかチェックする\n",
        "        if LA.det(matJ) < 0:\n",
        "            raise ValueError(\"要素の計算に失敗しました\")\n",
        "\n",
        "        return matJ\n",
        "\n",
        "    # Bマトリクスを作成する\n",
        "    def makeBmatrix(self):\n",
        "\n",
        "        # dNi/da, dNi/dbを計算する\n",
        "        dN1da = -1.0\n",
        "        dN2da = 1.0\n",
        "        dN3da = 0.0\n",
        "        dN4da = 0.0\n",
        "        dN1db = -1.0\n",
        "        dN2db = 0.0\n",
        "        dN3db = 1.0\n",
        "        dN4db = 0.0\n",
        "        dN1dc = -1.0\n",
        "        dN2dc = 0.0\n",
        "        dN3dc = 0.0\n",
        "        dN4dc = 1.0\n",
        "\n",
        "        # dNi/dx, dNi/dyを計算する\n",
        "        matdNdab = np.matrix([[dN1da, dN2da, dN3da, dN4da],\n",
        "                              [dN1db, dN2db, dN3db, dN4db],\n",
        "                              [dN1dc, dN2dc, dN3dc, dN4dc]])\n",
        "\n",
        "         # ヤコビ行列を計算する\n",
        "        matJ = self.makeJmatrix()\n",
        "\n",
        "        #dNdxy = matJinv * matdNdab\n",
        "        dNdxy = LA.solve(matJ, matdNdab)\n",
        "\n",
        "        # Bマトリクスを計算する\n",
        "        matB = np.array([[dNdxy[0, 0], 0.0, 0.0, dNdxy[0, 1], 0.0, 0.0, dNdxy[0, 2], 0.0, 0.0, dNdxy[0, 3], 0.0, 0.0],\n",
        "                         [0.0, dNdxy[1, 0], 0.0, 0.0, dNdxy[1, 1], 0.0, 0.0, dNdxy[1, 2], 0.0, 0.0, dNdxy[1, 3], 0.0],\n",
        "                         [0.0, 0.0, dNdxy[2, 0], 0.0, 0.0, dNdxy[2, 1], 0.0, 0.0, dNdxy[2, 2], 0.0, 0.0, dNdxy[2, 3]],\n",
        "                         [0.0, dNdxy[2, 0], dNdxy[1, 0], 0.0, dNdxy[2, 1], dNdxy[1, 1], 0.0, dNdxy[2, 2], dNdxy[1, 2], 0.0, dNdxy[2, 3], dNdxy[1, 3]],\n",
        "                         [dNdxy[2, 0], 0.0, dNdxy[0, 0], dNdxy[2, 1], 0.0, dNdxy[0, 1], dNdxy[2, 2], 0.0, dNdxy[0, 2], dNdxy[2, 3], 0.0, dNdxy[0, 3]],\n",
        "                         [dNdxy[1, 0], dNdxy[0, 0], 0.0, dNdxy[1, 1], dNdxy[0, 1], 0.0, dNdxy[1, 2], dNdxy[0, 2], 0.0, dNdxy[1, 3], dNdxy[0, 3], 0.0]])\n",
        "\n",
        "        return matB\n",
        "\n",
        "    # 等価節点力の荷重ベクトルを作成する\n",
        "    def makeEqNodeForceVector(self):\n",
        "\n",
        "        # ヤコビ行列を計算する\n",
        "        matJ = self.makeJmatrix()\n",
        "\n",
        "        vecEqNodeForce = np.zeros(self.nodeNum * self.nodeDof)\n",
        "\n",
        "        # 物体力による等価節点力を計算する\n",
        "        vecBodyForce = np.zeros(self.nodeNum * self.nodeDof)\n",
        "        if not self.vecGravity is None:\n",
        "            vecb = self.density * self.vecGravity   # 単位体積あたりの物体力のベクトル\n",
        "            N1 = 1 - self.ai - self.bi - self.ci\n",
        "            N2 = self.ai\n",
        "            N3 = self.bi\n",
        "            N4 = self.ci\n",
        "            matN = np.matrix([[N1, 0.0, 0.0, N2, 0.0, 0.0, N3, 0.0, 0.0, N4, 0.0, 0.0],\n",
        "                              [0.0, N1, 0.0, 0.0, N2, 0.0, 0.0, N3, 0.0, 0.0, N4, 0.0],\n",
        "                              [0.0, 0.0, N1, 0.0, 0.0, N2, 0.0, 0.0, N3, 0.0, 0.0, N4]])\n",
        "            vecBodyForce = self.w * np.array(matN.T @ vecb).flatten() * LA.det(matJ)\n",
        "\n",
        "        # 表面力と物体力の等価節点力を計算する\n",
        "        vecEqNodeForce = vecBodyForce\n",
        "\n",
        "        return vecEqNodeForce"
      ]
    },
    {
      "cell_type": "code",
      "execution_count": null,
      "metadata": {
        "id": "eloXifXdZrCK"
      },
      "outputs": [],
      "source": [
        "import numpy as np\n",
        "\n",
        "# 境界条件を格納するクラス\n",
        "class Boundary:\n",
        "    # コンストラクタ\n",
        "    # nodeNum : 節点数\n",
        "    def __init__(self, nodeNum):\n",
        "        # インスタンス変数を定義する\n",
        "        self.nodeNum = nodeNum                                     # 全節点数\n",
        "        self.nodeDof = 3                                           # 節点の自由度\n",
        "        self.vecDisp = np.array(nodeNum * self.nodeDof * [None])   # 単点拘束の強制変位\n",
        "        self.vecForce = np.array(nodeNum * self.nodeDof * [0.0])   # 荷重ベクトル\n",
        "        self.matC = np.empty((0, nodeNum * self.nodeDof))          # 多点拘束用のCマトリクス\n",
        "        self.vecd = np.empty(0)                                    # 多点拘束用のdベクトル\n",
        "\n",
        "    # 単点拘束を追加する\n",
        "    # nodeNo : 節点番号\n",
        "    # dispX  : x方向の強制変位\n",
        "    # dispY  : y方向の強制変位\n",
        "    # dispZ  : z方向の強制変位\n",
        "    def addSPC(self, nodeNo, dispX, dispY, dispZ):\n",
        "\n",
        "        self.vecDisp[self.nodeDof * (nodeNo - 1) + 0] = dispX\n",
        "        self.vecDisp[self.nodeDof * (nodeNo - 1) + 1] = dispY\n",
        "        self.vecDisp[self.nodeDof * (nodeNo - 1) + 2] = dispZ\n",
        "\n",
        "    # 多点拘束を追加する\n",
        "    # 条件式 : vecC x u = d\n",
        "    def addMPC(self, vecC, d):\n",
        "\n",
        "        self.matC = np.vstack((self.matC, vecC))\n",
        "        self.vecd = np.hstack((self.vecd, d))\n",
        "\n",
        "    # 単点拘束条件から変位ベクトルを作成する\n",
        "    def makeDispVector(self):\n",
        "\n",
        "        return self.vecDisp\n",
        "\n",
        "    # 荷重を追加する\n",
        "    def addForce(self, nodeNo, fx, fy, fz):\n",
        "\n",
        "        self.vecForce[self.nodeDof * (nodeNo - 1) + 0] = fx\n",
        "        self.vecForce[self.nodeDof * (nodeNo - 1) + 1] = fy\n",
        "        self.vecForce[self.nodeDof * (nodeNo - 1) + 2] = fz\n",
        "\n",
        "    # 境界条件から荷重ベクトルを作成する\n",
        "    def makeForceVector(self):\n",
        "\n",
        "        return self.vecForce\n",
        "\n",
        "    # 多点拘束の境界条件を表すCマトリクス、dベクトルを作成する\n",
        "    def makeMPCmatrixes(self):\n",
        "\n",
        "        return self.matC, self.vecd\n",
        "\n",
        "    # 拘束条件を出力する\n",
        "    def printBoundary(self):\n",
        "        print(\"Node Number: \", self.nodeNum)\n",
        "        print(\"SPC Constraint Condition\")\n",
        "        print(self.vecDisp)\n",
        "        print(\"Force Condition\")\n",
        "        print(self.vecForce)\n",
        "        print(\"MPC Constraint Condition\")\n",
        "        print(\"C x u = d\")\n",
        "        print(\"C Matrix\")\n",
        "        print(self.matC)\n",
        "        print(\"d vector\")\n",
        "        print(self.vecd)\n"
      ]
    },
    {
      "cell_type": "code",
      "execution_count": null,
      "metadata": {
        "id": "mXK2L0jJZ0xq"
      },
      "outputs": [],
      "source": [
        "import numpy as np\n",
        "import numpy.linalg as LA\n",
        "#from Boundary import Boundary\n",
        "\n",
        "class FEM:\n",
        "    # コンストラクタ\n",
        "    # nodes    : 節点は1から始まる順番で並んでいる前提(Node型のリスト)\n",
        "    # elements : 要素は種類ごとにソートされている前提(C3D4型のリスト)\n",
        "    # bound    : 境界条件(d2Boundary型)\n",
        "    def __init__(self, nodes, elements, nodes_head, elements_head, bound):\n",
        "\n",
        "        # インスタンス変数を定義する\n",
        "        self.nodeDof = 3   # 節点の自由度\n",
        "        self.nodes = nodes\n",
        "        self.elements = elements\n",
        "        self.bound = bound\n",
        "        \n",
        "        self.nodes_head = nodes_head\n",
        "        self.elements_head = elements_head\n",
        "        \n",
        "        self.vecStrain= np.array(len(self.elements) * self.nodeDof * 2 * [None]) # For strain tensor\n",
        "        self.vecStress= np.array(len(self.elements) * self.nodeDof * 2 * [None]) # For stress tensor\n",
        " \n",
        "    # 解析を行う\n",
        "    def analysis(self):\n",
        "\n",
        "        # 境界条件を考慮しないKマトリクスを作成する\n",
        "        matK = self.makeKmatrix()\n",
        "\n",
        "        # 荷重ベクトルを作成する\n",
        "        vecf = self.makeForceVector()\n",
        "\n",
        "        # 境界条件を考慮したKマトリクス、荷重ベクトルを作成する\n",
        "        matKc, vecfc, mpcNum = self.setBoundCondition(matK, vecf)\n",
        "\n",
        "        if np.isclose(LA.det(matKc), 0.0) :\n",
        "            raise ValueError(\"有限要素法の計算に失敗しました。\")\n",
        "\n",
        "        # 変位ベクトルを計算する\n",
        "        vecDisp = LA.solve(matKc, vecfc)\n",
        "        self.vecDisp = vecDisp\n",
        "        \n",
        "        # ひずみテンソルを計算する\n",
        "        vecStrain = self.calculateStrain()\n",
        "        self.vecStrain = vecStrain\n",
        "        \n",
        "        # 応力テンソルを計算する\n",
        "        vecStress = self.calculateStress()\n",
        "        self.vecStress = vecStress\n",
        "\n",
        "        # 節点反力を計算する\n",
        "        vecRF = np.array(matK @ vecDisp - vecf).flatten()\n",
        "        self.vecRF = vecRF\n",
        "\n",
        "        return vecDisp, vecRF\n",
        "\n",
        "    # 節点に負荷する荷重、等価節点力を考慮した荷重ベクトルを作成する\n",
        "    def makeForceVector(self):\n",
        "\n",
        "        # 節点に負荷する荷重ベクトルを作成する\n",
        "        vecCondiForce = self.bound.makeForceVector()\n",
        "\n",
        "        # 等価節点力の荷重ベクトルを作成する\n",
        "        vecEqNodeForce = np.zeros(len(self.nodes) * self.nodeDof)\n",
        "        for elem in self.elements:\n",
        "            vecElemEqNodeForce = elem.makeEqNodeForceVector()\n",
        "            for i in range(len(elem.nodes)):\n",
        "                for j in range(self.nodeDof):\n",
        "                    vecEqNodeForce[self.nodeDof * (elem.nodes[i].no - 1) + j] += vecElemEqNodeForce[self.nodeDof * i + j]\n",
        "\n",
        "        # 境界条件、等価節点力の荷重ベクトルを足し合わせる\n",
        "        vecf = vecCondiForce + vecEqNodeForce\n",
        "\n",
        "        return vecf\n",
        "\n",
        "    # 境界条件を考慮しないKマトリクスを作成する\n",
        "    def makeKmatrix(self):\n",
        "\n",
        "        matK = np.matrix(np.zeros((len(self.nodes) * self.nodeDof, len(self.nodes) * self.nodeDof)))\n",
        "        for elem in self.elements:\n",
        "\n",
        "            # ketマトリクスを計算する\n",
        "            matKe = elem.makeKematrix()\n",
        "\n",
        "            # Ktマトリクスに代入する\n",
        "            for c in range(len(elem.nodes) * self.nodeDof):\n",
        "                ct = (elem.nodes[c // self.nodeDof].no - 1) * self.nodeDof + c % self.nodeDof\n",
        "                for r in range(len(elem.nodes) * self.nodeDof):\n",
        "                    rt = (elem.nodes[r // self.nodeDof].no - 1) * self.nodeDof + r % self.nodeDof\n",
        "                    matK[ct, rt] += matKe[c, r]\n",
        "\n",
        "        return matK\n",
        "\n",
        "    # Kマトリクス、荷重ベクトルに境界条件を考慮する\n",
        "    # matK         : 剛性マトリクス\n",
        "    # vecf         : 荷重ベクトル\n",
        "    # vecBoundDisp : 節点の境界条件の変位ベクトル\n",
        "    # vecDisp      : 全節点の変位ベクトル(np.array型)\n",
        "    def setBoundCondition(self, matKt, vecf):\n",
        "\n",
        "        matKtc = np.copy(matKt)\n",
        "        vecfc = np.copy(vecf)\n",
        "        vecBoundDisp = self.bound.makeDispVector()\n",
        "\n",
        "        # 単点拘束条件を考慮したKマトリクス、荷重ベクトルを作成する\n",
        "        for i in range(len(vecBoundDisp)):\n",
        "            if not vecBoundDisp[i] == None:\n",
        "                # Kマトリクスからi列を抽出する\n",
        "                vecx = np.array(matKt[:, i]).flatten()\n",
        "\n",
        "                # 変位ベクトルi列の影響を荷重ベクトルに適用する\n",
        "                vecfc = vecfc - (vecBoundDisp[i]) * vecx\n",
        "\n",
        "                # Kマトリクスのi行、i列を全て0にし、i行i列の値を1にする\n",
        "                matKtc[:, i] = 0.0\n",
        "                matKtc[i, :] = 0.0\n",
        "                matKtc[i, i] = 1.0\n",
        "        for i in range(len(vecBoundDisp)):\n",
        "            if not vecBoundDisp[i] == None:\n",
        "                vecfc[i] = vecBoundDisp[i]\n",
        "                \n",
        "        \n",
        "        # 2023.3.16 追記\n",
        "        # https://qiita.com/Altaka4128/items/003f0d0cc564175dca2c\n",
        "        # 多節点拘束条件を考慮したKマトリクス、荷重ベクトルを作成する\n",
        "        matC, vecd = self.bound.makeMPCmatrixes()\n",
        "        mpcNum = len(vecd)   # 多節点拘束の条件式の数を求める\n",
        "        \n",
        "        if mpcNum > 0:\n",
        "            matKc = np.hstack((matKc, matC.T))\n",
        "            tmpMat = np.hstack((matC, np.zeros((matC.shape[0], matC.shape[0]))))\n",
        "            matKc = np.vstack((matKc, tmpMat))\n",
        "            vecfc = np.hstack((vecf, vecd))\n",
        "        \n",
        "        return matKtc, vecfc, mpcNum\n",
        "    \n",
        "    #追加 2023.3.15 for Strain\n",
        "    def calculateStrain(self):\n",
        "        vecStrain = np.copy(self.vecStrain)\n",
        "        for i, elem in enumerate(self.elements):\n",
        "            matB = elem.makeBmatrix()\n",
        "            vecStrain_tmp = []\n",
        "            for node in range(len(elem.nodes)):\n",
        "                vecStrain_tmp.extend([self.vecDisp[self.nodeDof * node], self.vecDisp[self.nodeDof * node + 1], self.vecDisp[self.nodeDof * node + 2]])\n",
        "            \n",
        "            vecStrain_tmp = matB @ np.array(vecStrain_tmp).flatten()\n",
        "            for j, comp in enumerate(vecStrain_tmp):\n",
        "                vecStrain[i * self.nodeDof * 2 + j] = comp\n",
        "        return vecStrain\n",
        "    \n",
        "    #追加 2023.3.15 for Stress\n",
        "    def calculateStress(self):\n",
        "        vecStress = np.copy(self.vecStress)\n",
        "        for i, elem in enumerate(self.elements):\n",
        "            matD = elem.makeDmatrix()\n",
        "            vecStrain_tmp = [[self.vecStrain[self.nodeDof * i], self.vecStrain[self.nodeDof * i + 1], self.vecStrain[self.nodeDof * i + 2],\n",
        "                                  self.vecStrain[self.nodeDof * i + 3], self.vecStrain[self.nodeDof * i + 4], self.vecStrain[self.nodeDof * i + 5]]]\n",
        "            vecStress_tmp = matD @ np.array(vecStrain_tmp).flatten()\n",
        "            for j, comp in enumerate(vecStress_tmp):\n",
        "                vecStress[i * self.nodeDof * 2 + j] = comp\n",
        "        return vecStress\n",
        "        \n",
        "\n",
        "    # 解析結果をテキストファイルに出力する\n",
        "    def outputTxt(self, filePath):\n",
        "\n",
        "        # ファイルを作成し、開く\n",
        "        f = open(filePath + \".txt\", 'w')\n",
        "\n",
        "        # 出力する文字の情報を定義する\n",
        "        columNum = 20\n",
        "        floatDigits = \".10g\"\n",
        "\n",
        "        # 入力データのタイトルを書きこむ\n",
        "        f.write(\"*********************************\\n\")\n",
        "        f.write(\"*          Input Data           *\\n\")\n",
        "        f.write(\"*********************************\\n\")\n",
        "        f.write(\"\\n\")\n",
        "\n",
        "        # 節点情報を出力する\n",
        "        f.write(\"***** Node Data ******\\n\")\n",
        "        f.write(\"No\".rjust(columNum) + \"X\".rjust(columNum) + \"Y\".rjust(columNum) + \"Z\".rjust(columNum) + \"\\n\")\n",
        "        f.write(\"-\" * columNum * 4 + \"\\n\")\n",
        "        for node in self.nodes:\n",
        "            strNo = str(node.no).rjust(columNum)\n",
        "            strX = str(format(node.x, floatDigits).rjust(columNum))\n",
        "            strY = str(format(node.y, floatDigits).rjust(columNum))\n",
        "            strZ = str(format(node.z, floatDigits).rjust(columNum))\n",
        "            f.write(strNo + strX + strY + strZ + \"\\n\")\n",
        "        f.write(\"\\n\")\n",
        "\n",
        "        # 要素情報を出力する\n",
        "        nodeNoColumNum = 36\n",
        "        f.write(\"***** Element Data ******\\n\")\n",
        "        f.write(\"No\".rjust(columNum) + \"Type\".rjust(columNum) + \"Node No\".rjust(nodeNoColumNum) + \n",
        "                \"Young\".rjust(columNum) + \"Poisson\".rjust(columNum) + \"Density\".rjust(columNum) + \"\\n\")\n",
        "        f.write(\"-\" * columNum * 5 + \"-\" * nodeNoColumNum + \"\\n\")\n",
        "        for elem in self.elements:\n",
        "            strNo = str(elem.no).rjust(columNum)\n",
        "            strType = str(elem.__class__.__name__ ).rjust(columNum)\n",
        "            strNodeNo = \"\"\n",
        "            for node in elem.nodes:\n",
        "                strNodeNo += \" \" + str(node.no)\n",
        "            strNodeNo = strNodeNo.rjust(nodeNoColumNum)\n",
        "            strYoung = str(format(elem.young, floatDigits).rjust(columNum))\n",
        "            strPoisson = \"None\".rjust(columNum)\n",
        "            if hasattr(elem, 'poisson'):\n",
        "                strPoisson = str(format(elem.poisson, floatDigits).rjust(columNum))\n",
        "            strDensity = \"None\".rjust(columNum)\n",
        "            if not elem.density is None:\n",
        "                strDensity = str(format(elem.density, floatDigits).rjust(columNum))\n",
        "            f.write(strNo + strType + strNodeNo + strYoung + strPoisson + strDensity + \"\\n\")\n",
        "        f.write(\"\\n\")\n",
        "\n",
        "        # 単点拘束情報を出力する\n",
        "        f.write(\"***** SPC Constraint Data ******\\n\")\n",
        "        f.write(\"NodeNo\".rjust(columNum) + \"X Displacement\".rjust(columNum) + \"Y Displacement\".rjust(columNum) + \"Z Displacement\".rjust(columNum) +\"\\n\")\n",
        "        f.write(\"-\" * columNum * 4 + \"\\n\")\n",
        "        vecd = self.bound.makeDispVector()\n",
        "        for i in range(len(self.nodes)):\n",
        "            flg = False\n",
        "            for j in range(self.nodeDof):\n",
        "                if not vecd[self.nodeDof * i + j] == None:\n",
        "                    flg = True\n",
        "            if flg == True:\n",
        "                strNo = str(i + 1).rjust(columNum)\n",
        "                strXDisp = str(format(vecd[self.nodeDof * i], floatDigits).rjust(columNum))\n",
        "                strYDisp = str(format(vecd[self.nodeDof * i + 1], floatDigits).rjust(columNum))\n",
        "                strZDisp = str(format(vecd[self.nodeDof * i + 2], floatDigits).rjust(columNum))\n",
        "                f.write(strNo + strXDisp + strYDisp + strZDisp + \"\\n\")\n",
        "        f.write(\"\\n\")\n",
        "\n",
        "        # 荷重条件を出力する(等価節点力も含む)\n",
        "        f.write(\"***** Nodal Force Data ******\\n\")\n",
        "        f.write(\"NodeNo\".rjust(columNum) + \"X Force\".rjust(columNum) + \"Y Force\".rjust(columNum) + \"Z Force\".rjust(columNum) +\"\\n\")\n",
        "        f.write(\"-\" * columNum * 4 + \"\\n\")\n",
        "        vecf = self.makeForceVector()\n",
        "        for i in range(len(self.nodes)):\n",
        "            flg = False\n",
        "            for j in range(self.nodeDof):\n",
        "                if not vecf[self.nodeDof * i + j] == None:\n",
        "                    flg = True\n",
        "            if flg == True:\n",
        "                strNo = str(i + 1).rjust(columNum)\n",
        "                strXForce = str(format(vecf[self.nodeDof * i], floatDigits).rjust(columNum))\n",
        "                strYForce = str(format(vecf[self.nodeDof * i + 1], floatDigits).rjust(columNum))\n",
        "                strZForce = str(format(vecf[self.nodeDof * i + 2], floatDigits).rjust(columNum))\n",
        "                f.write(strNo + strXForce + strYForce + strZForce + \"\\n\")\n",
        "        f.write(\"\\n\")\n",
        "\n",
        "        # 結果データのタイトルを書きこむ\n",
        "        f.write(\"**********************************\\n\")\n",
        "        f.write(\"*          Result Data           *\\n\")\n",
        "        f.write(\"**********************************\\n\")\n",
        "        f.write(\"\\n\")\n",
        "\n",
        "        # 変位のデータを出力する\n",
        "        f.write(\"***** Displacement Data ******\\n\")\n",
        "        f.write(\"NodeNo\".rjust(columNum) + \"Magnitude\".rjust(columNum) + \"X Displacement\".rjust(columNum) +\n",
        "                \"Y Displacement\".rjust(columNum) + \"Z Displacement\".rjust(columNum) + \"\\n\")\n",
        "        f.write(\"-\" * columNum * 5 + \"\\n\")\n",
        "        for i in range(len(self.nodes)):\n",
        "            strNo = str(i + 1).rjust(columNum)\n",
        "            mag = np.linalg.norm(np.array((self.vecDisp[self.nodeDof * i], self.vecDisp[self.nodeDof * i + 1], self.vecDisp[self.nodeDof * i + 2])))\n",
        "            strMag = str(format(mag, floatDigits).rjust(columNum))\n",
        "            strXDisp = str(format(self.vecDisp[self.nodeDof * i], floatDigits).rjust(columNum))\n",
        "            strYDisp = str(format(self.vecDisp[self.nodeDof * i + 1], floatDigits).rjust(columNum))\n",
        "            strZDisp = str(format(self.vecDisp[self.nodeDof * i + 2], floatDigits).rjust(columNum))\n",
        "            f.write(strNo + strMag + strXDisp + strYDisp + strZDisp + \"\\n\")            \n",
        "        f.write(\"\\n\")\n",
        "        \n",
        "        # ひずみのデータを出力する\n",
        "        f.write(\"***** Strain Data ******\\n\")\n",
        "        f.write(\"ElementNo\".rjust(columNum) + \"epsilon_xx\".rjust(columNum) +\n",
        "                \"epsilin_yy\".rjust(columNum) + \"epsilon_zz\".rjust(columNum) + \"epsilon_xy\".rjust(columNum) + \n",
        "                \"epsilon_yz\".rjust(columNum) + \"epsilon_zx\".rjust(columNum) + \"\\n\")\n",
        "        f.write(\"-\" * columNum * 7 + \"\\n\")\n",
        "        for i in range(len(self.elements)):\n",
        "            strNo = str(i + 1).rjust(columNum)\n",
        "            strXXStrain = str(format(self.vecStrain[self.nodeDof * 2 * i    ], floatDigits).rjust(columNum))\n",
        "            strYYStrain = str(format(self.vecStrain[self.nodeDof * 2 * i + 1], floatDigits).rjust(columNum))\n",
        "            strZZStrain = str(format(self.vecStrain[self.nodeDof * 2 * i + 2], floatDigits).rjust(columNum))\n",
        "            strXYStrain = str(format(self.vecStrain[self.nodeDof * 2 * i + 3], floatDigits).rjust(columNum))\n",
        "            strYZStrain = str(format(self.vecStrain[self.nodeDof * 2 * i + 4], floatDigits).rjust(columNum))\n",
        "            strZXStrain = str(format(self.vecStrain[self.nodeDof * 2 * i + 5], floatDigits).rjust(columNum))\n",
        "        f.write(\"\\n\")\n",
        "        \n",
        "        # 応力のデータを出力する\n",
        "        f.write(\"***** Stress Data ******\\n\")\n",
        "        f.write(\"ElementNo\".rjust(columNum) + \"sigma_xx\".rjust(columNum) +\n",
        "                \"sigma_yy\".rjust(columNum) + \"sigma_zz\".rjust(columNum) + \"sigma_xy\".rjust(columNum) + \n",
        "                \"sigma_yz\".rjust(columNum) + \"sigma_zx\".rjust(columNum) + \"\\n\")\n",
        "        f.write(\"-\" * columNum * 7 + \"\\n\")\n",
        "        for i in range(len(self.elements)):\n",
        "            strNo = str(i + 1).rjust(columNum)\n",
        "            strXXStrain = str(format(self.vecStress[self.nodeDof * 2 * i    ], floatDigits).rjust(columNum))\n",
        "            strYYStrain = str(format(self.vecStress[self.nodeDof * 2 * i + 1], floatDigits).rjust(columNum))\n",
        "            strZZStrain = str(format(self.vecStress[self.nodeDof * 2 * i + 2], floatDigits).rjust(columNum))\n",
        "            strXYStrain = str(format(self.vecStress[self.nodeDof * 2 * i + 3], floatDigits).rjust(columNum))\n",
        "            strYZStrain = str(format(self.vecStress[self.nodeDof * 2 * i + 4], floatDigits).rjust(columNum))\n",
        "            strZXStrain = str(format(self.vecStress[self.nodeDof * 2 * i + 5], floatDigits).rjust(columNum))\n",
        "        f.write(\"\\n\")\n",
        "         \n",
        "        for i in range(len(self.nodes)):\n",
        "            strNo = str(i + 1).rjust(columNum)\n",
        "            mag = np.linalg.norm(np.array((self.vecDisp[self.nodeDof * i], self.vecDisp[self.nodeDof * i + 1], self.vecDisp[self.nodeDof * i + 2])))\n",
        "            strMag = str(format(mag, floatDigits).rjust(columNum))\n",
        "            strXDisp = str(format(self.vecDisp[self.nodeDof * i], floatDigits).rjust(columNum))\n",
        "            strYDisp = str(format(self.vecDisp[self.nodeDof * i + 1], floatDigits).rjust(columNum))\n",
        "            strZDisp = str(format(self.vecDisp[self.nodeDof * i + 2], floatDigits).rjust(columNum))\n",
        "            f.write(strNo + strMag + strXDisp + strYDisp + strZDisp + \"\\n\")            \n",
        "        f.write(\"\\n\")\n",
        "\n",
        "        # 反力のデータを出力する\n",
        "        f.write(\"***** Reaction Force Data ******\\n\")\n",
        "        f.write(\"NodeNo\".rjust(columNum) + \"Magnitude\".rjust(columNum) + \"X Force\".rjust(columNum) + \"Y Force\".rjust(columNum) + \"Z Force\".rjust(columNum) + \"\\n\")\n",
        "        f.write(\"-\" * columNum * 5 + \"\\n\")\n",
        "        for i in range(len(self.nodes)):\n",
        "            strNo = str(i + 1).rjust(columNum)\n",
        "            mag = np.linalg.norm(np.array((self.vecRF[self.nodeDof * i], self.vecRF[self.nodeDof * i + 1], self.vecRF[self.nodeDof * i + 2])))\n",
        "            strMag = str(format(mag, floatDigits).rjust(columNum))\n",
        "            strXForce = str(format(self.vecRF[self.nodeDof * i], floatDigits).rjust(columNum))\n",
        "            strYForce = str(format(self.vecRF[self.nodeDof * i + 1], floatDigits).rjust(columNum))\n",
        "            strZForce = str(format(self.vecRF[self.nodeDof * i + 2], floatDigits).rjust(columNum))\n",
        "            f.write(strNo + strMag + strXForce + strYForce + strZForce + \"\\n\")            \n",
        "        f.write(\"\\n\")\n",
        "\n",
        "        # ファイルを閉じる\n",
        "        f.close()\n",
        "\n",
        "    def outputVtk(self, filePath1, filePath2):\n",
        "        # ファイルを作成し、開く\n",
        "        \n",
        "        ############################\n",
        "        #         File 1           #\n",
        "        ############################\n",
        "        \n",
        "        f = open(filePath1 + \".vtk\", 'w')\n",
        "        floatDigits = \".10g\"\n",
        "        \n",
        "        # おまじない\n",
        "        f.write(\"# vtk DataFile Version 2.0\\n\")\n",
        "        f.write(\"Displacement.\\n\")\n",
        "        f.write(\"ASCII\\n\")\n",
        "        f.write(\"DATASET UNSTRUCTURED_GRID\\n\")\n",
        "        f.write(\"\\n\")\n",
        "\n",
        "        # 節点情報\n",
        "        f.write(\"POINTS {} float\\n\".format(len(self.nodes)))\n",
        "        for node in self.nodes:\n",
        "          f.write(\"{0} {1} {2}\\n\".format(node.x, node.y, node.z))\n",
        "        f.write(\"\\n\")\n",
        "\n",
        "        # 要素情報\n",
        "        f.write(\"CELLS {0} {1}\\n\".format(len(self.elements), len(self.elements)*5))\n",
        "        for elem in self.elements:\n",
        "          strNodeNo = \"\"\n",
        "          for node in elem.nodes:\n",
        "                strNodeNo += \" \" + str(node.no)\n",
        "          f.write(\"4 {}\\n\".format(strNodeNo))\n",
        "        f.write(\"CELL_TYPES {}\\n\".format(len(self.elements)))\n",
        "        for i in range(len(self.elements)):\n",
        "          f.write(\"10\\n\")\n",
        "        f.write(\"\\n\")\n",
        "\n",
        "        # 変位情報\n",
        "        f.write(\"POINT_DATA {}\\n\".format(len(self.nodes)))\n",
        "        f.write(\"SCALARS Dispracement_Norm float\\n\")\n",
        "        f.write(\"LOOKUP_TABLE default\\n\")\n",
        "\n",
        "        #　ノルム\n",
        "        for i in range(len(self.nodes)):\n",
        "          mag = np.linalg.norm(np.array((self.vecDisp[self.nodeDof * i], self.vecDisp[self.nodeDof * i + 1], self.vecDisp[self.nodeDof * i + 2])))\n",
        "          f.write(\"{0}\\n\".format(mag))\n",
        "        f.write(\"\\n\")\n",
        "\n",
        "        #　x方向変位\n",
        "        #for i in range(len(self.nodes)):\n",
        "        #  f.write(\"{0}\\n\".format(self.vecDisp[self.nodeDof * i]))\n",
        "\n",
        "        # 反力情報\n",
        "        f.write(\"SCALARS Counterforce_helmet float\\n\")\n",
        "        f.write(\"LOOKUP_TABLE default\\n\")\n",
        "        for i in range(len(self.nodes)):\n",
        "          mag = np.linalg.norm(np.array((self.vecRF[self.nodeDof * i], self.vecRF[self.nodeDof * i + 1], self.vecRF[self.nodeDof * i + 2])))\n",
        "          f.write(\"{0}\\n\".format(mag))\n",
        "        f.write(\"\\n\")        \n",
        "\n",
        "        # ひずみ情報\n",
        "        f.write(\"CELL_DATA {}\\n\".format(len(self.elements)))\n",
        "        f.write(\"SCALARS Strain_xx float\\n\")\n",
        "        f.write(\"LOOKUP_TABLE default\\n\")\n",
        "\n",
        "        for i in range(len(self.elements)):\n",
        "            f.write(\"{0}\\n\".format(self.vecStrain[self.nodeDof * 2 * i]))\n",
        "        f.write(\"\\n\")\n",
        "\n",
        "        #f.write(\"CELL_DATA {}\\n\".format(len(self.elements)))\n",
        "        f.write(\"SCALARS Strain_yy float\\n\")\n",
        "        f.write(\"LOOKUP_TABLE default\\n\")\n",
        "\n",
        "        for i in range(len(self.elements)):\n",
        "            f.write(\"{0}\\n\".format(self.vecStrain[self.nodeDof * 2 * i + 1]))\n",
        "        f.write(\"\\n\")\n",
        "\n",
        "        #f.write(\"CELL_DATA {}\\n\".format(len(self.elements)))\n",
        "        f.write(\"SCALARS Strain_zz float\\n\")\n",
        "        f.write(\"LOOKUP_TABLE default\\n\")\n",
        "\n",
        "        for i in range(len(self.elements)):\n",
        "            f.write(\"{0}\\n\".format(self.vecStrain[self.nodeDof * 2 * i + 2]))\n",
        "        f.write(\"\\n\")\n",
        "\n",
        "        #f.write(\"CELL_DATA {}\\n\".format(len(self.elements)))\n",
        "        f.write(\"SCALARS Strain_xy float\\n\")\n",
        "        f.write(\"LOOKUP_TABLE default\\n\")\n",
        "\n",
        "        for i in range(len(self.elements)):\n",
        "            f.write(\"{0}\\n\".format(self.vecStrain[self.nodeDof * 2 * i + 3]))\n",
        "        f.write(\"\\n\")\n",
        "\n",
        "        #f.write(\"CELL_DATA {}\\n\".format(len(self.elements)))\n",
        "        f.write(\"SCALARS Strain_yz float\\n\")\n",
        "        f.write(\"LOOKUP_TABLE default\\n\")\n",
        "\n",
        "        for i in range(len(self.elements)):\n",
        "            f.write(\"{0}\\n\".format(self.vecStrain[self.nodeDof * 2 * i + 4]))\n",
        "        f.write(\"\\n\")\n",
        "\n",
        "        #f.write(\"CELL_DATA {}\\n\".format(len(self.elements)))\n",
        "        f.write(\"SCALARS Strain_zx float\\n\")\n",
        "        f.write(\"LOOKUP_TABLE default\\n\")\n",
        "\n",
        "        for i in range(len(self.elements)):\n",
        "            f.write(\"{0}\\n\".format(self.vecStrain[self.nodeDof * 2 * i + 5]))\n",
        "        f.write(\"\\n\")\n",
        "        \n",
        "        f.close()\n",
        "        \n",
        "        ############################\n",
        "        #         File 2           #\n",
        "        ############################\n",
        "        \n",
        "        # For visualization head's information\n",
        "        \n",
        "        f2 = open(filePath2 + \".vtk\", 'w')\n",
        "        floatDigits = \".10g\"\n",
        "        \n",
        "        # おまじない\n",
        "        f2.write(\"# vtk DataFile Version 2.0\\n\")\n",
        "        f2.write(\"Displacement.\\n\")\n",
        "        f2.write(\"ASCII\\n\")\n",
        "        f2.write(\"DATASET UNSTRUCTURED_GRID\\n\")\n",
        "        f2.write(\"\\n\")\n",
        "        \n",
        "        # 節点情報\n",
        "        f2.write(\"POINTS {} float\\n\".format(len(self.nodes_head)))\n",
        "        for node in self.nodes_head:\n",
        "          f2.write(\"{0} {1} {2}\\n\".format(node.x, node.y, node.z))\n",
        "        f2.write(\"\\n\")\n",
        "\n",
        "        # 要素情報\n",
        "        f2.write(\"CELLS {0} {1}\\n\".format(len(self.elements_head), len(self.elements_head)*5))\n",
        "        for elem in self.elements_head:\n",
        "          strNodeNo = \"\"\n",
        "          for node in elem.nodes:\n",
        "                strNodeNo += \" \" + str(node.no)\n",
        "          f2.write(\"4 {}\\n\".format(strNodeNo))\n",
        "        f2.write(\"CELL_TYPES {}\\n\".format(len(self.elements_head)))\n",
        "        for i in range(len(self.elements_head)):\n",
        "          f2.write(\"10\\n\")\n",
        "        f2.write(\"\\n\")\n",
        "        \n",
        "        # 反力のノルム\n",
        "        f2.write(\"CELL_DATA {}\\n\".format(len(self.elements_head)))\n",
        "        f2.write(\"SCALARS Counterforce_head_norm float\\n\")\n",
        "        f2.write(\"LOOKUP_TABLE default\\n\")\n",
        "        \n",
        "        # bc_element_head: ヘルメットと接触する面を含む四面体\n",
        "        # bc_RF_helmet: 頭と接触する節点\n",
        "        \n",
        "        for i in range(len(self.elements_head)):\n",
        "            # 接触面\n",
        "            if i in bc_element_head:\n",
        "                ind = bc_element_head.index(i)\n",
        "                mag = np.linalg.norm(np.array((self.vecRF[self.nodeDof * ind], self.vecRF[self.nodeDof * ind + 1], self.vecRF[self.nodeDof * ind + 2])))\n",
        "                f2.write(\"{0}\\n\".format(mag))\n",
        "            \n",
        "            # 非接触面\n",
        "            else:\n",
        "                f2.write(\"{0}\\n\".format(0))\n",
        "        f2.write(\"\\n\")\n",
        "        \n",
        "        # 反力のうち頭に内向き垂直な方向のノルム\n",
        "        f2.write(\"SCALARS Counterforce_head_normal float\\n\")\n",
        "        f2.write(\"LOOKUP_TABLE default\\n\")\n",
        "        \n",
        "        for i in range(len(self.elements_head)):\n",
        "            # 接触面\n",
        "            if i in bc_element_head:\n",
        "                ind = bc_element_head.index(i)\n",
        "                f = bc_face_head[ind]\n",
        "                \n",
        "                n0 = f_node[3*f  ]\n",
        "                n1 = f_node[3*f+1]\n",
        "                n2 = f_node[3*f+2]\n",
        "                \n",
        "                v0 = x_head[n2] - x_head[n0] \n",
        "                v1 = x_head[n1] - x_head[n0]\n",
        "                \n",
        "                n = np.cross(v0, v1)/np.linalg.norm(np.cross(v0, v1))\n",
        "                vec_tmp = [self.vecRF[self.nodeDof * ind], self.vecRF[self.nodeDof * ind + 1], self.vecRF[self.nodeDof * ind + 2]]\n",
        "                \n",
        "                mag = np.dot(n, np.array(vec_tmp))\n",
        "                if mag < 0:\n",
        "                    mag = 0.\n",
        "                f2.write(\"{0}\\n\".format(mag))\n",
        "            \n",
        "            # 非接触面\n",
        "            else:\n",
        "                f2.write(\"{0}\\n\".format(0))\n",
        "        f2.write(\"\\n\")\n",
        "        \n",
        "        f2.close()\n"
      ]
    },
    {
      "cell_type": "markdown",
      "metadata": {
        "id": "Gqvux6ZNxb53"
      },
      "source": [
        "### Import mesh data"
      ]
    },
    {
      "cell_type": "code",
      "execution_count": null,
      "metadata": {
        "colab": {
          "base_uri": "https://localhost:8080/"
        },
        "id": "f3ZyHjCwxjAS",
        "outputId": "ef9b9aa1-7a53-4468-a622-72402686f8d3"
      },
      "outputs": [
        {
          "name": "stdout",
          "output_type": "stream",
          "text": [
            "Collecting package metadata (current_repodata.json): done\n",
            "Solving environment: done\n",
            "\n",
            "\n",
            "==> WARNING: A newer version of conda exists. <==\n",
            "  current version: 4.9.2\n",
            "  latest version: 23.1.0\n",
            "\n",
            "Please update conda by running\n",
            "\n",
            "    $ conda update -n base -c defaults conda\n",
            "\n",
            "\n",
            "\n",
            "## Package Plan ##\n",
            "\n",
            "  environment location: /Users/satoshi_noguchi/opt/anaconda3/envs/test_env\n",
            "\n",
            "  added / updated specs:\n",
            "    - meshio\n",
            "\n",
            "\n",
            "The following packages will be downloaded:\n",
            "\n",
            "    package                    |            build\n",
            "    ---------------------------|-----------------\n",
            "    c-ares-1.18.1              |       h0d85af4_0         100 KB  conda-forge\n",
            "    ca-certificates-2022.12.7  |       h033912b_0         142 KB  conda-forge\n",
            "    cached-property-1.5.2      |       hd8ed1ab_1           4 KB  conda-forge\n",
            "    cached_property-1.5.2      |     pyha770c72_1          11 KB  conda-forge\n",
            "    certifi-2022.12.7          |     pyhd8ed1ab_0         147 KB  conda-forge\n",
            "    cftime-1.6.2               |  py310h936d966_1         218 KB  conda-forge\n",
            "    curl-7.88.1                |       h6c40b1e_0          84 KB\n",
            "    h5py-3.7.0                 |nompi_py310haa22bcd_100         1.2 MB  conda-forge\n",
            "    hdf4-4.2.15                |       hefd3b78_3         885 KB  conda-forge\n",
            "    hdf5-1.12.1                |nompi_h2f0ef1a_100         3.7 MB  conda-forge\n",
            "    importlib-metadata-6.0.0   |     pyha770c72_0          24 KB  conda-forge\n",
            "    importlib_metadata-6.0.0   |       hd8ed1ab_0           9 KB  conda-forge\n",
            "    libcurl-7.88.1             |       ha585b31_0         348 KB\n",
            "    libev-4.33                 |       haf1e3a3_1          99 KB  conda-forge\n",
            "    libgfortran-5.0.0          |11_3_0_h97931a8_31         156 KB  conda-forge\n",
            "    libgfortran5-12.2.0        |      he409387_31         1.5 MB  conda-forge\n",
            "    libnetcdf-4.8.1            |nompi_h6609ca0_101         1.3 MB  conda-forge\n",
            "    libnghttp2-1.46.0          |       ha29bfda_0         687 KB\n",
            "    libssh2-1.10.0             |       h52ee1ee_2         221 KB  conda-forge\n",
            "    libzip-1.8.0               |       h272c8d6_0         115 KB\n",
            "    markdown-it-py-2.2.0       |     pyhd8ed1ab_0          61 KB  conda-forge\n",
            "    mdurl-0.1.0                |     pyhd8ed1ab_0          13 KB  conda-forge\n",
            "    meshio-5.3.4               |     pyhd8ed1ab_0         436 KB  conda-forge\n",
            "    netcdf4-1.6.0              |nompi_py310hc1a5e9b_100         448 KB  conda-forge\n",
            "    openssl-1.1.1t             |       hfd90126_0         1.7 MB  conda-forge\n",
            "    python_abi-3.10            |          2_cp310           4 KB  conda-forge\n",
            "    rich-13.2.0                |     pyhd8ed1ab_1         178 KB  conda-forge\n",
            "    zipp-3.15.0                |     pyhd8ed1ab_0          17 KB  conda-forge\n",
            "    ------------------------------------------------------------\n",
            "                                           Total:        13.7 MB\n",
            "\n",
            "The following NEW packages will be INSTALLED:\n",
            "\n",
            "  c-ares             conda-forge/osx-64::c-ares-1.18.1-h0d85af4_0\n",
            "  cached-property    conda-forge/noarch::cached-property-1.5.2-hd8ed1ab_1\n",
            "  cached_property    conda-forge/noarch::cached_property-1.5.2-pyha770c72_1\n",
            "  cftime             conda-forge/osx-64::cftime-1.6.2-py310h936d966_1\n",
            "  curl               pkgs/main/osx-64::curl-7.88.1-h6c40b1e_0\n",
            "  h5py               conda-forge/osx-64::h5py-3.7.0-nompi_py310haa22bcd_100\n",
            "  hdf4               conda-forge/osx-64::hdf4-4.2.15-hefd3b78_3\n",
            "  hdf5               conda-forge/osx-64::hdf5-1.12.1-nompi_h2f0ef1a_100\n",
            "  importlib-metadata conda-forge/noarch::importlib-metadata-6.0.0-pyha770c72_0\n",
            "  importlib_metadata conda-forge/noarch::importlib_metadata-6.0.0-hd8ed1ab_0\n",
            "  libcurl            pkgs/main/osx-64::libcurl-7.88.1-ha585b31_0\n",
            "  libev              conda-forge/osx-64::libev-4.33-haf1e3a3_1\n",
            "  libgfortran        conda-forge/osx-64::libgfortran-5.0.0-11_3_0_h97931a8_31\n",
            "  libgfortran5       conda-forge/osx-64::libgfortran5-12.2.0-he409387_31\n",
            "  libnetcdf          conda-forge/osx-64::libnetcdf-4.8.1-nompi_h6609ca0_101\n",
            "  libnghttp2         pkgs/main/osx-64::libnghttp2-1.46.0-ha29bfda_0\n",
            "  libssh2            conda-forge/osx-64::libssh2-1.10.0-h52ee1ee_2\n",
            "  libzip             pkgs/main/osx-64::libzip-1.8.0-h272c8d6_0\n",
            "  markdown-it-py     conda-forge/noarch::markdown-it-py-2.2.0-pyhd8ed1ab_0\n",
            "  mdurl              conda-forge/noarch::mdurl-0.1.0-pyhd8ed1ab_0\n",
            "  meshio             conda-forge/noarch::meshio-5.3.4-pyhd8ed1ab_0\n",
            "  netcdf4            conda-forge/osx-64::netcdf4-1.6.0-nompi_py310hc1a5e9b_100\n",
            "  python_abi         conda-forge/osx-64::python_abi-3.10-2_cp310\n",
            "  rich               conda-forge/noarch::rich-13.2.0-pyhd8ed1ab_1\n",
            "  zipp               conda-forge/noarch::zipp-3.15.0-pyhd8ed1ab_0\n",
            "\n",
            "The following packages will be SUPERSEDED by a higher-priority channel:\n",
            "\n",
            "  ca-certificates    pkgs/main::ca-certificates-2023.01.10~ --> conda-forge::ca-certificates-2022.12.7-h033912b_0\n",
            "  certifi            pkgs/main/osx-64::certifi-2022.12.7-p~ --> conda-forge/noarch::certifi-2022.12.7-pyhd8ed1ab_0\n",
            "  openssl              pkgs/main::openssl-1.1.1t-hca72f7f_0 --> conda-forge::openssl-1.1.1t-hfd90126_0\n",
            "\n",
            "\n",
            "\n",
            "Downloading and Extracting Packages\n",
            "ca-certificates-2022 | 142 KB    | ##################################### | 100% \n",
            "c-ares-1.18.1        | 100 KB    | ##################################### | 100% \n",
            "libssh2-1.10.0       | 221 KB    | ##################################### | 100% \n",
            "cached-property-1.5. | 4 KB      | ##################################### | 100% \n",
            "libnghttp2-1.46.0    | 687 KB    | ##################################### | 100% \n",
            "cached_property-1.5. | 11 KB     | ##################################### | 100% \n",
            "importlib-metadata-6 | 24 KB     | ##################################### | 100% \n",
            "h5py-3.7.0           | 1.2 MB    | ##################################### | 100% \n",
            "libev-4.33           | 99 KB     | ##################################### | 100% \n",
            "mdurl-0.1.0          | 13 KB     | ##################################### | 100% \n",
            "libzip-1.8.0         | 115 KB    | ##################################### | 100% \n",
            "hdf4-4.2.15          | 885 KB    | ##################################### | 100% \n",
            "meshio-5.3.4         | 436 KB    | ##################################### | 100% \n",
            "cftime-1.6.2         | 218 KB    | ##################################### | 100% \n",
            "certifi-2022.12.7    | 147 KB    | ##################################### | 100% \n",
            "hdf5-1.12.1          | 3.7 MB    | ##################################### | 100% \n",
            "curl-7.88.1          | 84 KB     | ##################################### | 100% \n",
            "rich-13.2.0          | 178 KB    | ##################################### | 100% \n",
            "libgfortran5-12.2.0  | 1.5 MB    | ##################################### | 100% \n",
            "libcurl-7.88.1       | 348 KB    | ##################################### | 100% \n",
            "openssl-1.1.1t       | 1.7 MB    | ##################################### | 100% \n",
            "importlib_metadata-6 | 9 KB      | ##################################### | 100% \n",
            "libnetcdf-4.8.1      | 1.3 MB    | ##################################### | 100% \n",
            "python_abi-3.10      | 4 KB      | ##################################### | 100% \n",
            "markdown-it-py-2.2.0 | 61 KB     | ##################################### | 100% \n",
            "netcdf4-1.6.0        | 448 KB    | ##################################### | 100% \n",
            "zipp-3.15.0          | 17 KB     | ##################################### | 100% \n",
            "libgfortran-5.0.0    | 156 KB    | ##################################### | 100% \n",
            "Preparing transaction: done\n",
            "Verifying transaction: done\n",
            "Executing transaction: done\n"
          ]
        }
      ],
      "source": [
        "!conda install -c conda-forge meshio -y"
      ]
    },
    {
      "cell_type": "code",
      "execution_count": null,
      "metadata": {
        "id": "sFt1oroujakd"
      },
      "outputs": [],
      "source": [
        "import meshio"
      ]
    },
    {
      "cell_type": "code",
      "execution_count": null,
      "metadata": {
        "colab": {
          "base_uri": "https://localhost:8080/"
        },
        "id": "6kDgS2JbxToL",
        "outputId": "112cded2-ebfc-4f09-94ed-73a3263255f8"
      },
      "outputs": [
        {
          "name": "stdout",
          "output_type": "stream",
          "text": [
            "\n"
          ]
        }
      ],
      "source": [
        "#head_mesh = meshio.read(\"/Users/ngtsts/Desktop/Research/副業/Berry/Data/mesh/sample2/MSH/SNO8248FR_scan_gmsh_uniform_5.msh\")\n",
        "head_mesh = meshio.read(\"/Users/satoshi_noguchi/Desktop/Research/副業/Berry/Data/mesh/sample2/MSH/SNO8248FR_scan_gmsh_uniform_5.msh\")\n",
        "x_head = head_mesh.points\n",
        "ele_head = head_mesh.cells_dict[\"tetra\"]"
      ]
    },
    {
      "cell_type": "code",
      "execution_count": null,
      "metadata": {
        "colab": {
          "base_uri": "https://localhost:8080/"
        },
        "id": "Bvautl5PlZLG",
        "outputId": "08b2cd81-9a85-49ae-ccb4-8967abe549eb"
      },
      "outputs": [
        {
          "name": "stdout",
          "output_type": "stream",
          "text": [
            "\n"
          ]
        }
      ],
      "source": [
        "#helmet_mesh = meshio.read(\"/Users/ngtsts/Desktop/Research/副業/Berry/Data/mesh/sample2/MSH/SNO8248FR_helmet_gmsh_uniform_5.msh\")\n",
        "helmet_mesh = meshio.read(\"/Users/satoshi_noguchi/Desktop/Research/副業/Berry/Data/mesh/sample2/MSH/SNO8248FR_helmet_gmsh_uniform_5.msh\")\n",
        "x = helmet_mesh.points\n",
        "ele = helmet_mesh.cells_dict[\"tetra\"]"
      ]
    },
    {
      "cell_type": "code",
      "execution_count": null,
      "metadata": {
        "colab": {
          "base_uri": "https://localhost:8080/"
        },
        "id": "YVg7PzOJy7Us",
        "outputId": "cbb7c9e4-20f7-4a96-97ca-5feb9220617d"
      },
      "outputs": [
        {
          "data": {
            "text/plain": [
              "<meshio mesh object>\n",
              "  Number of points: 11621\n",
              "  Number of cells:\n",
              "    triangle: 7174\n",
              "    tetra: 61007\n",
              "  Cell data: gmsh:physical, gmsh:geometrical\n",
              "  Field data: surface1, surface2, surface3, volume1"
            ]
          },
          "execution_count": 45,
          "metadata": {},
          "output_type": "execute_result"
        }
      ],
      "source": [
        "head_mesh"
      ]
    },
    {
      "cell_type": "code",
      "execution_count": null,
      "metadata": {
        "colab": {
          "base_uri": "https://localhost:8080/"
        },
        "id": "UBfmU8Y9_DD6",
        "outputId": "49fb4459-9f6f-4fb6-891e-3e190a89e4d4"
      },
      "outputs": [
        {
          "data": {
            "text/plain": [
              "<meshio mesh object>\n",
              "  Number of points: 4556\n",
              "  Number of cells:\n",
              "    triangle: 9108\n",
              "    tetra: 13281\n",
              "  Cell data: gmsh:physical, gmsh:geometrical\n",
              "  Field data: surface1, surface2, surface3, surface4, surface5, surface6, surface7, surface8, surface9, volume1"
            ]
          },
          "execution_count": 46,
          "metadata": {},
          "output_type": "execute_result"
        }
      ],
      "source": [
        "helmet_mesh"
      ]
    },
    {
      "cell_type": "markdown",
      "metadata": {
        "id": "i17yYLGeCaQf"
      },
      "source": [
        "### Identify contact points\n"
      ]
    },
    {
      "cell_type": "code",
      "execution_count": null,
      "metadata": {
        "id": "RODsVAQSYn6A"
      },
      "outputs": [],
      "source": [
        "def tetra_volume_head(n0, n1, n2, n3):\n",
        "  v10 = x_head[n1] - x_head[n0]\n",
        "  v20 = x_head[n2] - x_head[n0]\n",
        "  v30 = x_head[n3] - x_head[n0]\n",
        "\n",
        "  V = np.dot(np.cross(v10, v20), v30)/6\n",
        "\n",
        "  if V < 0:\n",
        "    print(\"右手系になってる？\")\n",
        "  else:\n",
        "    return V\n",
        "\n",
        "def tetra_volume_helmet(n0, n1, n2, n3):\n",
        "  v10 = x[n1] - x[n0]\n",
        "  v20 = x[n2] - x[n0]\n",
        "  v30 = x[n3] - x[n0]\n",
        "\n",
        "  V = np.dot(np.cross(v10, v20), v30)/6\n",
        "\n",
        "  if V < 0:\n",
        "    print(\"右手系になってる？\")\n",
        "  else:\n",
        "    return V"
      ]
    },
    {
      "cell_type": "code",
      "execution_count": null,
      "metadata": {
        "colab": {
          "base_uri": "https://localhost:8080/"
        },
        "id": "zl10QV0UsLBf",
        "outputId": "09df2220-15a5-40e4-90f8-f2c8f0968d0a"
      },
      "outputs": [
        {
          "name": "stdout",
          "output_type": "stream",
          "text": [
            "The biggest element in head: 81.489318\n",
            "The average length in head: 3.028684\n",
            "The biggest element in helmet: 25.392355\n",
            "The average length in helment: 2.363473\n"
          ]
        }
      ],
      "source": [
        "V_max = -1\n",
        "V = 0\n",
        "V_total = 0\n",
        "\n",
        "for i in range(len(ele_head)):\n",
        "  n0, n1, n2, n3 = ele_head[i]\n",
        "  V = tetra_volume_head(n0, n1, n2, n3)\n",
        "  V_total+=V\n",
        "  if V > V_max:\n",
        "    V_max = V\n",
        "\n",
        "av_len_head = (V_total/len(ele_head))** (1/3)\n",
        "print(\"The biggest element in head: {:3f}\".format(V_max))\n",
        "print(\"The average length in head: {:3f}\".format(av_len_head))\n",
        "\n",
        "V_max = -1\n",
        "V = 0\n",
        "V_total = 0\n",
        "\n",
        "for i in range(len(ele)):\n",
        "  n0, n1, n2, n3 = ele[i]\n",
        "  V = tetra_volume_helmet(n0, n1, n2, n3)\n",
        "  V_total+=V\n",
        "  if V > V_max:\n",
        "    V_max = V\n",
        "\n",
        "av_len_helment = (V_total/len(ele))** (1/3)\n",
        "\n",
        "print(\"The biggest element in helmet: {:3f}\".format(V_max))\n",
        "print(\"The average length in helment: {:3f}\".format(av_len_helment))"
      ]
    },
    {
      "cell_type": "markdown",
      "metadata": {
        "id": "_-2c38jBMTkZ"
      },
      "source": [
        "#### Identify geometry of head\n"
      ]
    },
    {
      "cell_type": "code",
      "execution_count": null,
      "metadata": {
        "id": "B-uhYxtFylPy"
      },
      "outputs": [],
      "source": [
        "n_eh = len(ele_head)\n",
        "n_ph = len(x_head)\n",
        "\n",
        "e_link_start = np.zeros(n_ph+1, dtype=np.int32)\n",
        "\n",
        "for i in range(n_eh):\n",
        "  n0, n1, n2, n3 = ele_head[i]\n",
        "  e_link_start[n0] += 1\n",
        "  e_link_start[n1] += 1\n",
        "  e_link_start[n2] += 1\n",
        "  e_link_start[n3] += 1\n",
        "\n",
        "for i in range(n_ph): e_link_start[i] += e_link_start[i-1]\n",
        "for i in reversed(range(1, n_ph+1)): e_link_start[i] = e_link_start[i-1]\n",
        "e_link_start[0] = 0"
      ]
    },
    {
      "cell_type": "code",
      "execution_count": null,
      "metadata": {
        "colab": {
          "base_uri": "https://localhost:8080/"
        },
        "id": "ITYpweeCumWD",
        "outputId": "1224aae2-ac9d-4bcd-a7ae-0761ac3cdcd8"
      },
      "outputs": [
        {
          "name": "stdout",
          "output_type": "stream",
          "text": [
            "e_link done.\n"
          ]
        }
      ],
      "source": [
        "e_link = np.full(e_link_start[n_ph], -1, dtype=np.int32)\n",
        "\n",
        "for i in range(n_eh):\n",
        "  for n in ele_head[i]:\n",
        "    jstart = e_link_start[n]\n",
        "    jend = e_link_start[n+1]\n",
        "    for j in range(jstart,jend):\n",
        "      if e_link[j] == -1:\n",
        "        e_link[j] = i\n",
        "        #j = jend\n",
        "        break\n",
        "\n",
        "print(\"e_link done.\")"
      ]
    },
    {
      "cell_type": "code",
      "execution_count": null,
      "metadata": {
        "colab": {
          "base_uri": "https://localhost:8080/"
        },
        "id": "Ec35SRDd0RzR",
        "outputId": "c53025b4-3608-4ad2-c875-67a6d7389246"
      },
      "outputs": [
        {
          "name": "stdout",
          "output_type": "stream",
          "text": [
            "n_link done.\n"
          ]
        }
      ],
      "source": [
        "n_link_start = np.zeros(n_ph+1, dtype=np.int32)\n",
        "n_link_list = []\n",
        "\n",
        "for i in range(n_ph):\n",
        "  n_link_tmp = []\n",
        "  jstart = e_link_start[i]\n",
        "  jend = e_link_start[i+1]\n",
        "  for j in range(jstart,jend):\n",
        "    el = e_link[j]\n",
        "    n0, n1, n2, n3 = ele_head[el]\n",
        "    n_link_tmp += [n0, n1, n2, n3]\n",
        "\n",
        "  n_link_tmp.sort()\n",
        "  n_link_tmp = list(dict.fromkeys(n_link_tmp))\n",
        "  n_link_tmp.remove(i)\n",
        "  n_link_list += n_link_tmp\n",
        "  \n",
        "  n_link_start[i+1] = n_link_start[i] + len(n_link_tmp)\n",
        "\n",
        "n_link = np.array(n_link_list, dtype=np.int32)\n",
        "\n",
        "print(\"n_link done.\")"
      ]
    },
    {
      "cell_type": "code",
      "execution_count": null,
      "metadata": {
        "id": "zsiG5m_Jkm2c"
      },
      "outputs": [],
      "source": [
        "def Comb(n00: int, n11: int, n22: int, n2: int, n1: int, n0: int):\n",
        "  if n00==n2 and n11==n1 and n22==n0:\n",
        "    return True\n",
        "  elif n00==n1 and n11==n0 and n22==n2:\n",
        "    return True\n",
        "  elif n00==n0 and n11==n2 and n22==n1:\n",
        "    return True\n",
        "  else:\n",
        "    return False"
      ]
    },
    {
      "cell_type": "code",
      "execution_count": null,
      "metadata": {
        "id": "sZrGQosxqa_g"
      },
      "outputs": [],
      "source": [
        "e_f_link = np.full(4*n_eh, -1, dtype=np.int32)\n",
        "f_node = []\n",
        "f_counter = 0\n",
        "\n",
        "for i in range(n_eh):\n",
        "  itmp = 4*i\n",
        "  n0, n1, n2, n3 = ele_head[i]\n",
        "\n",
        "  if e_f_link[itmp] == -1:\n",
        "    e_f_link[itmp] = f_counter\n",
        "    for j in range(e_link_start[n0], e_link_start[n0+1]):\n",
        "      jtmp = 4*e_link[j]\n",
        "      n00, n11, n22, n33 = ele_head[e_link[j]]\n",
        "      if Comb(n00, n11, n22, n2, n1, n0) and e_f_link[jtmp]==-1:\n",
        "        e_f_link[jtmp]=f_counter\n",
        "        break\n",
        "      elif Comb(n33, n11, n00, n2, n1, n0) and e_f_link[jtmp+1]==-1:\n",
        "        e_f_link[jtmp+1]=f_counter\n",
        "        break\n",
        "      elif Comb(n00, n22, n33, n2, n1, n0) and e_f_link[jtmp+2]==-1:\n",
        "        e_f_link[jtmp+2]=f_counter\n",
        "        break\n",
        "      elif Comb(n33, n22, n11, n2, n1, n0) and e_f_link[jtmp+3]==-1:\n",
        "        e_f_link[jtmp+3]=f_counter\n",
        "        break\n",
        "    f_counter=f_counter+1\n",
        "    f_node.append(n0)\n",
        "    f_node.append(n2)\n",
        "    f_node.append(n1)\n",
        "\n",
        "  if e_f_link[itmp+1] == -1:\n",
        "    e_f_link[itmp+1] = f_counter\n",
        "    for j in range(e_link_start[n0], e_link_start[n0+1]):\n",
        "      jtmp = 4*e_link[j]\n",
        "      n00, n11, n22, n33 = ele_head[e_link[j]]\n",
        "      if Comb(n00, n11, n22, n0, n1, n3) and e_f_link[jtmp]==-1:\n",
        "        e_f_link[jtmp]=f_counter\n",
        "        break\n",
        "      elif Comb(n33, n11, n00, n0, n1, n3) and e_f_link[jtmp+1]==-1:\n",
        "        e_f_link[jtmp+1]=f_counter\n",
        "        break\n",
        "      elif Comb(n00, n22, n33, n0, n1, n3) and e_f_link[jtmp+2]==-1:\n",
        "        e_f_link[jtmp+2]=f_counter\n",
        "        break\n",
        "      elif Comb(n33, n22, n11, n0, n1, n3) and e_f_link[jtmp+3]==-1:\n",
        "        e_f_link[jtmp+3]=f_counter\n",
        "        break\n",
        "    f_counter=f_counter+1\n",
        "    f_node.append(n0)\n",
        "    f_node.append(n1)\n",
        "    f_node.append(n3)\n",
        "\n",
        "  if e_f_link[itmp+2] == -1:\n",
        "    e_f_link[itmp+2] = f_counter\n",
        "    for j in range(e_link_start[n0], e_link_start[n0+1]):\n",
        "      jtmp = 4*e_link[j]\n",
        "      n00, n11, n22, n33 = ele_head[e_link[j]]\n",
        "      if Comb(n00, n11, n22, n3, n2, n0) and e_f_link[jtmp]==-1:\n",
        "        e_f_link[jtmp]=f_counter\n",
        "        break\n",
        "      elif Comb(n33, n11, n00, n3, n2, n0) and e_f_link[jtmp+1]==-1:\n",
        "        e_f_link[jtmp+1]=f_counter\n",
        "        break\n",
        "      elif Comb(n00, n22, n33, n3, n2, n0) and e_f_link[jtmp+2]==-1:\n",
        "        e_f_link[jtmp+2]=f_counter\n",
        "        break\n",
        "      elif Comb(n33, n22, n11, n3, n2, n0) and e_f_link[jtmp+3]==-1:\n",
        "        e_f_link[jtmp+3]=f_counter\n",
        "        break\n",
        "    f_counter=f_counter+1\n",
        "    f_node.append(n3)\n",
        "    f_node.append(n2)\n",
        "    f_node.append(n0)\n",
        "\n",
        "  if e_f_link[itmp+3] == -1:\n",
        "    e_f_link[itmp+3] = f_counter\n",
        "    for j in range(e_link_start[n1], e_link_start[n1+1]):\n",
        "      jtmp = 4*e_link[j]\n",
        "      n00, n11, n22, n33 = ele_head[e_link[j]]\n",
        "      if Comb(n00, n11, n22, n1, n2, n3) and e_f_link[jtmp]==-1:\n",
        "        e_f_link[jtmp]=f_counter\n",
        "        break\n",
        "      elif Comb(n33, n11, n00, n1, n2, n3) and e_f_link[jtmp+1]==-1:\n",
        "        e_f_link[jtmp+1]=f_counter\n",
        "        break\n",
        "      elif Comb(n00, n22, n33, n1, n2, n3) and e_f_link[jtmp+2]==-1:\n",
        "        e_f_link[jtmp+2]=f_counter\n",
        "        break\n",
        "      elif Comb(n33, n22, n11, n1, n2, n3) and e_f_link[jtmp+3]==-1:\n",
        "        e_f_link[jtmp+3]=f_counter\n",
        "        break\n",
        "    f_counter=f_counter+1\n",
        "    f_node.append(n1)\n",
        "    f_node.append(n2)\n",
        "    f_node.append(n3)"
      ]
    },
    {
      "cell_type": "code",
      "execution_count": null,
      "metadata": {
        "id": "hvp8fO2dHArj"
      },
      "outputs": [],
      "source": [
        "f_node = np.array(f_node, dtype=np.int32)"
      ]
    },
    {
      "cell_type": "code",
      "execution_count": null,
      "metadata": {
        "colab": {
          "base_uri": "https://localhost:8080/"
        },
        "id": "KVYwzIUvZ6F2",
        "outputId": "15062a75-ab8b-47da-fb4d-8529392c2347"
      },
      "outputs": [
        {
          "name": "stdout",
          "output_type": "stream",
          "text": [
            "面の数は125601.\n"
          ]
        }
      ],
      "source": [
        "n_face = f_counter\n",
        "print(\"面の数は{}.\".format(n_face))"
      ]
    },
    {
      "cell_type": "code",
      "execution_count": null,
      "metadata": {
        "colab": {
          "base_uri": "https://localhost:8080/"
        },
        "id": "aqQlFhTs23qD",
        "outputId": "d05fe04f-1080-4d0a-a4d9-b580da5f5da7"
      },
      "outputs": [
        {
          "data": {
            "text/plain": [
              "244028"
            ]
          },
          "execution_count": 56,
          "metadata": {},
          "output_type": "execute_result"
        }
      ],
      "source": [
        "len(e_f_link)"
      ]
    },
    {
      "cell_type": "code",
      "execution_count": null,
      "metadata": {
        "id": "U_iySpcrpM_I"
      },
      "outputs": [],
      "source": [
        "f_e_link = np.full(2*n_face, -1, dtype=np.int32)\n",
        "\n",
        "for i in range(n_eh):\n",
        "  itmp = 4*i\n",
        "  f0 = e_f_link[itmp  ]\n",
        "  f1 = e_f_link[itmp+1]\n",
        "  f2 = e_f_link[itmp+2]\n",
        "  f3 = e_f_link[itmp+3]\n",
        "  faces = [f0, f1, f2, f3]\n",
        "\n",
        "  for f in faces:\n",
        "    if f_e_link[2*f]==-1:\n",
        "      f_e_link[2*f]=i\n",
        "    elif f_e_link[2*f+1]==-1:\n",
        "      f_e_link[2*f+1]=i\n",
        "    else:\n",
        "      print(\"Something wrong!\")"
      ]
    },
    {
      "cell_type": "code",
      "execution_count": null,
      "metadata": {
        "colab": {
          "base_uri": "https://localhost:8080/"
        },
        "id": "ugwz2AQr2bFT",
        "outputId": "d0b801ca-71da-43e0-a93c-20f5bad75b58"
      },
      "outputs": [
        {
          "data": {
            "text/plain": [
              "array([    0,   602,     0, ..., 61004, 61005, 61006], dtype=int32)"
            ]
          },
          "execution_count": 58,
          "metadata": {},
          "output_type": "execute_result"
        }
      ],
      "source": [
        "f_e_link"
      ]
    },
    {
      "cell_type": "code",
      "execution_count": null,
      "metadata": {
        "colab": {
          "base_uri": "https://localhost:8080/"
        },
        "id": "-izGvga0qcqk",
        "outputId": "030809ab-9457-4909-e934-0df603c8b1e3"
      },
      "outputs": [
        {
          "name": "stdout",
          "output_type": "stream",
          "text": [
            "境界を構成する面の数は7174.\n"
          ]
        }
      ],
      "source": [
        "#境界を構成する面を取り出す\n",
        "bf_list = []\n",
        "\n",
        "for f in range(n_face):\n",
        "  if f_e_link[2*f+1]==-1:\n",
        "    bf_list.append(f)\n",
        "\n",
        "print(\"境界を構成する面の数は{}.\".format(len(bf_list)))"
      ]
    },
    {
      "cell_type": "markdown",
      "metadata": {
        "id": "kUlxhultL36i"
      },
      "source": [
        "#### Identify Geometry of helment"
      ]
    },
    {
      "cell_type": "code",
      "execution_count": null,
      "metadata": {
        "id": "pCObBgqnL6rn"
      },
      "outputs": [],
      "source": [
        "n_e = len(ele)\n",
        "n_p = len(x)\n",
        "\n",
        "e_link_start_hel = np.zeros(n_p+1, dtype=np.int32)\n",
        "\n",
        "for i in range(n_e):\n",
        "  n0, n1, n2, n3 = ele[i]\n",
        "  e_link_start_hel[n0] += 1\n",
        "  e_link_start_hel[n1] += 1\n",
        "  e_link_start_hel[n2] += 1\n",
        "  e_link_start_hel[n3] += 1\n",
        "\n",
        "for i in range(n_p): e_link_start_hel[i] += e_link_start_hel[i-1]\n",
        "for i in reversed(range(1, n_p+1)): e_link_start_hel[i] = e_link_start_hel[i-1]\n",
        "e_link_start_hel[0] = 0"
      ]
    },
    {
      "cell_type": "code",
      "execution_count": null,
      "metadata": {
        "colab": {
          "base_uri": "https://localhost:8080/"
        },
        "id": "DFt4as0WL-1T",
        "outputId": "4433466c-fa87-4966-faa2-43d38ccfa5f9"
      },
      "outputs": [
        {
          "name": "stdout",
          "output_type": "stream",
          "text": [
            "e_link done.\n"
          ]
        }
      ],
      "source": [
        "e_link_hel = np.full(e_link_start_hel[n_p], -1, dtype=np.int32)\n",
        "\n",
        "for i in range(n_e):\n",
        "  for n in ele[i]:\n",
        "    jstart = e_link_start_hel[n]\n",
        "    jend = e_link_start_hel[n+1]\n",
        "    for j in range(jstart,jend):\n",
        "      if e_link_hel[j] == -1:\n",
        "        e_link_hel[j] = i\n",
        "        #j = jend\n",
        "        break\n",
        "\n",
        "print(\"e_link done.\")"
      ]
    },
    {
      "cell_type": "code",
      "execution_count": null,
      "metadata": {
        "colab": {
          "base_uri": "https://localhost:8080/"
        },
        "id": "zFT-nYQvMCmv",
        "outputId": "410d4164-a9d8-4784-88d4-30802ad2d658"
      },
      "outputs": [
        {
          "name": "stdout",
          "output_type": "stream",
          "text": [
            "n_link done.\n"
          ]
        }
      ],
      "source": [
        "n_link_start_hel = np.zeros(n_p+1, dtype=np.int32)\n",
        "n_link_list_hel = []\n",
        "\n",
        "for i in range(n_p):\n",
        "  n_link_tmp = []\n",
        "  jstart = e_link_start_hel[i]\n",
        "  jend = e_link_start_hel[i+1]\n",
        "  for j in range(jstart,jend):\n",
        "    el = e_link_hel[j]\n",
        "    n0, n1, n2, n3 = ele[el]\n",
        "    n_link_tmp += [n0, n1, n2, n3]\n",
        "\n",
        "  n_link_tmp.sort()\n",
        "  n_link_tmp = list(dict.fromkeys(n_link_tmp))\n",
        "  n_link_tmp.remove(i)\n",
        "  n_link_list_hel += n_link_tmp\n",
        "  \n",
        "  n_link_start_hel[i+1] = n_link_start_hel[i] + len(n_link_tmp)\n",
        "\n",
        "n_link_hel = np.array(n_link_list_hel, dtype=np.int32)\n",
        "\n",
        "print(\"n_link done.\")"
      ]
    },
    {
      "cell_type": "code",
      "execution_count": null,
      "metadata": {
        "id": "BhvhrZobMIIa"
      },
      "outputs": [],
      "source": [
        "e_f_link_hel = np.full(4*n_e, -1, dtype=np.int32)\n",
        "f_node_hel = []\n",
        "f_counter = 0\n",
        "\n",
        "for i in range(n_e):\n",
        "  itmp = 4*i\n",
        "  n0, n1, n2, n3 = ele[i]\n",
        "\n",
        "  if e_f_link_hel[itmp] == -1:\n",
        "    e_f_link_hel[itmp] = f_counter\n",
        "    for j in range(e_link_start_hel[n0], e_link_start_hel[n0+1]):\n",
        "      jtmp = 4*e_link_hel[j]\n",
        "      n00, n11, n22, n33 = ele[e_link_hel[j]]\n",
        "      if Comb(n00, n11, n22, n2, n1, n0) and e_f_link_hel[jtmp]==-1:\n",
        "        e_f_link_hel[jtmp]=f_counter\n",
        "        break\n",
        "      elif Comb(n33, n11, n00, n2, n1, n0) and e_f_link_hel[jtmp+1]==-1:\n",
        "        e_f_link_hel[jtmp+1]=f_counter\n",
        "        break\n",
        "      elif Comb(n00, n22, n33, n2, n1, n0) and e_f_link_hel[jtmp+2]==-1:\n",
        "        e_f_link_hel[jtmp+2]=f_counter\n",
        "        break\n",
        "      elif Comb(n33, n22, n11, n2, n1, n0) and e_f_link_hel[jtmp+3]==-1:\n",
        "        e_f_link_hel[jtmp+3]=f_counter\n",
        "        break\n",
        "    f_counter=f_counter+1\n",
        "    f_node_hel.append(n0)\n",
        "    f_node_hel.append(n2)\n",
        "    f_node_hel.append(n1)\n",
        "\n",
        "  if e_f_link_hel[itmp+1] == -1:\n",
        "    e_f_link_hel[itmp+1] = f_counter\n",
        "    for j in range(e_link_start_hel[n0], e_link_start_hel[n0+1]):\n",
        "      jtmp = 4*e_link_hel[j]\n",
        "      n00, n11, n22, n33 = ele[e_link_hel[j]]\n",
        "      if Comb(n00, n11, n22, n0, n1, n3) and e_f_link_hel[jtmp]==-1:\n",
        "        e_f_link_hel[jtmp]=f_counter\n",
        "        break\n",
        "      elif Comb(n33, n11, n00, n0, n1, n3) and e_f_link_hel[jtmp+1]==-1:\n",
        "        e_f_link_hel[jtmp+1]=f_counter\n",
        "        break\n",
        "      elif Comb(n00, n22, n33, n0, n1, n3) and e_f_link_hel[jtmp+2]==-1:\n",
        "        e_f_link_hel[jtmp+2]=f_counter\n",
        "        break\n",
        "      elif Comb(n33, n22, n11, n0, n1, n3) and e_f_link_hel[jtmp+3]==-1:\n",
        "        e_f_link_hel[jtmp+3]=f_counter\n",
        "        break\n",
        "    f_counter=f_counter+1\n",
        "    f_node_hel.append(n0)\n",
        "    f_node_hel.append(n1)\n",
        "    f_node_hel.append(n3)\n",
        "\n",
        "  if e_f_link_hel[itmp+2] == -1:\n",
        "    e_f_link_hel[itmp+2] = f_counter\n",
        "    for j in range(e_link_start_hel[n0], e_link_start_hel[n0+1]):\n",
        "      jtmp = 4*e_link_hel[j]\n",
        "      n00, n11, n22, n33 = ele[e_link_hel[j]]\n",
        "      if Comb(n00, n11, n22, n3, n2, n0) and e_f_link_hel[jtmp]==-1:\n",
        "        e_f_link_hel[jtmp]=f_counter\n",
        "        break\n",
        "      elif Comb(n33, n11, n00, n3, n2, n0) and e_f_link_hel[jtmp+1]==-1:\n",
        "        e_f_link_hel[jtmp+1]=f_counter\n",
        "        break\n",
        "      elif Comb(n00, n22, n33, n3, n2, n0) and e_f_link_hel[jtmp+2]==-1:\n",
        "        e_f_link_hel[jtmp+2]=f_counter\n",
        "        break\n",
        "      elif Comb(n33, n22, n11, n3, n2, n0) and e_f_link_hel[jtmp+3]==-1:\n",
        "        e_f_link_hel[jtmp+3]=f_counter\n",
        "        break\n",
        "    f_counter=f_counter+1\n",
        "    f_node_hel.append(n3)\n",
        "    f_node_hel.append(n2)\n",
        "    f_node_hel.append(n0)\n",
        "\n",
        "  if e_f_link_hel[itmp+3] == -1:\n",
        "    e_f_link_hel[itmp+3] = f_counter\n",
        "    for j in range(e_link_start_hel[n1], e_link_start_hel[n1+1]):\n",
        "      jtmp = 4*e_link_hel[j]\n",
        "      n00, n11, n22, n33 = ele[e_link_hel[j]]\n",
        "      if Comb(n00, n11, n22, n1, n2, n3) and e_f_link_hel[jtmp]==-1:\n",
        "        e_f_link_hel[jtmp]=f_counter\n",
        "        break\n",
        "      elif Comb(n33, n11, n00, n1, n2, n3) and e_f_link_hel[jtmp+1]==-1:\n",
        "        e_f_link_hel[jtmp+1]=f_counter\n",
        "        break\n",
        "      elif Comb(n00, n22, n33, n1, n2, n3) and e_f_link_hel[jtmp+2]==-1:\n",
        "        e_f_link_hel[jtmp+2]=f_counter\n",
        "        break\n",
        "      elif Comb(n33, n22, n11, n1, n2, n3) and e_f_link_hel[jtmp+3]==-1:\n",
        "        e_f_link_hel[jtmp+3]=f_counter\n",
        "        break\n",
        "    f_counter=f_counter+1\n",
        "    f_node_hel.append(n1)\n",
        "    f_node_hel.append(n2)\n",
        "    f_node_hel.append(n3)"
      ]
    },
    {
      "cell_type": "code",
      "execution_count": null,
      "metadata": {
        "id": "iZxxcX6_MNaY"
      },
      "outputs": [],
      "source": [
        "f_node_hel = np.array(f_node_hel, dtype=np.int32)"
      ]
    },
    {
      "cell_type": "code",
      "execution_count": null,
      "metadata": {
        "colab": {
          "base_uri": "https://localhost:8080/"
        },
        "id": "mRLmMVi1MNaY",
        "outputId": "69abd6b1-2a5a-44a1-92aa-b3eb7b63206f"
      },
      "outputs": [
        {
          "name": "stdout",
          "output_type": "stream",
          "text": [
            "面の数は125601.\n"
          ]
        }
      ],
      "source": [
        "n_face_hel = f_counter\n",
        "print(\"面の数は{}.\".format(n_face))"
      ]
    },
    {
      "cell_type": "code",
      "execution_count": null,
      "metadata": {
        "colab": {
          "base_uri": "https://localhost:8080/"
        },
        "id": "D3gGggodMNaY",
        "outputId": "19d34c7a-42d8-40f6-bd56-23ac3487cf3c"
      },
      "outputs": [
        {
          "data": {
            "text/plain": [
              "53124"
            ]
          },
          "execution_count": 66,
          "metadata": {},
          "output_type": "execute_result"
        }
      ],
      "source": [
        "len(e_f_link_hel)"
      ]
    },
    {
      "cell_type": "code",
      "execution_count": null,
      "metadata": {
        "id": "EijCUQMhMNaZ"
      },
      "outputs": [],
      "source": [
        "f_e_link_hel = np.full(2*n_face_hel, -1, dtype=np.int32)\n",
        "\n",
        "for i in range(n_e):\n",
        "  itmp = 4*i\n",
        "  f0 = e_f_link_hel[itmp  ]\n",
        "  f1 = e_f_link_hel[itmp+1]\n",
        "  f2 = e_f_link_hel[itmp+2]\n",
        "  f3 = e_f_link_hel[itmp+3]\n",
        "  faces = [f0, f1, f2, f3]\n",
        "\n",
        "  for f in faces:\n",
        "    if f_e_link_hel[2*f]==-1:\n",
        "      f_e_link_hel[2*f]=i\n",
        "    elif f_e_link_hel[2*f+1]==-1:\n",
        "      f_e_link_hel[2*f+1]=i\n",
        "    else:\n",
        "      print(\"Something wrong!\")"
      ]
    },
    {
      "cell_type": "code",
      "execution_count": null,
      "metadata": {
        "colab": {
          "base_uri": "https://localhost:8080/"
        },
        "id": "6eIESqmHMRKw",
        "outputId": "c818250f-9619-4726-fa4f-a610e51700a2"
      },
      "outputs": [
        {
          "name": "stdout",
          "output_type": "stream",
          "text": [
            "境界を構成する麺の数は9108.\n"
          ]
        }
      ],
      "source": [
        "#境界を構成する面を取り出す\n",
        "bf_list_hel = []\n",
        "\n",
        "for f in range(n_face_hel):\n",
        "  if f_e_link_hel[2*f+1]==-1:\n",
        "    bf_list_hel.append(f)\n",
        "\n",
        "print(\"境界を構成する麺の数は{}.\".format(len(bf_list_hel)))"
      ]
    },
    {
      "cell_type": "code",
      "execution_count": null,
      "metadata": {
        "colab": {
          "base_uri": "https://localhost:8080/"
        },
        "id": "D-tc5MVLR4gk",
        "outputId": "203cce32-65cb-4925-8b6e-cf9d0a7400fa"
      },
      "outputs": [
        {
          "name": "stdout",
          "output_type": "stream",
          "text": [
            "4556\n",
            "4556\n"
          ]
        }
      ],
      "source": [
        "bc_node_tmp = []\n",
        "\n",
        "for f in bf_list_hel:\n",
        "  bc_node_tmp.append(f_node_hel[3*f  ])\n",
        "  bc_node_tmp.append(f_node_hel[3*f+1])\n",
        "  bc_node_tmp.append(f_node_hel[3*f+2])\n",
        "\n",
        "bc_node_tmp.sort()\n",
        "bc_node = list(dict.fromkeys(bc_node_tmp))\n",
        "\n",
        "print(len(bc_node))\n",
        "print(len(x))"
      ]
    },
    {
      "cell_type": "markdown",
      "metadata": {
        "id": "3mYj0RLoKv-z"
      },
      "source": [
        "#### Create bc_list"
      ]
    },
    {
      "cell_type": "code",
      "execution_count": null,
      "metadata": {
        "id": "Y5j8w5Si0WP6"
      },
      "outputs": [],
      "source": [
        "def det(a, b, c):\n",
        "  M = np.stack([a, b, c])\n",
        "  return np.linalg.det(M)"
      ]
    },
    {
      "cell_type": "code",
      "execution_count": null,
      "metadata": {
        "id": "n4-8MS3GqAug"
      },
      "outputs": [],
      "source": [
        "def contact(f, p_ind):\n",
        "  # a*u + b*v + c*t = d\n",
        "  a = x_head[f_node[3*f+1]] - x_head[f_node[3*f  ]]\n",
        "  b = x_head[f_node[3*f+2]] - x_head[f_node[3*f  ]]\n",
        "  c = - np.array([0, 0, 1]) # ray\n",
        "  d = x[p_ind] - x_head[f_node[3*f  ]]\n",
        "\n",
        "  u = det(d, b, c)/det(a, b, c)\n",
        "  v = det(a, d, c)/det(a, b, c)\n",
        "  t = det(a, b, d)/det(a, b, c)\n",
        "\n",
        "  if u < 0 or 1 < u:\n",
        "    return False\n",
        "  elif v < 0 or 1 < (u+v):\n",
        "    return False\n",
        "  elif t < 0:\n",
        "    return False\n",
        "  else:\n",
        "    return True"
      ]
    },
    {
      "cell_type": "code",
      "execution_count": null,
      "metadata": {
        "colab": {
          "base_uri": "https://localhost:8080/",
          "height": 49,
          "referenced_widgets": [
            "3a1f687989b54aca9d3ab898d70b94cb",
            "75573af5210f463fb132707ac3976efa",
            "4a5eeba1348842828dce8181e7ea6b04",
            "dce17cda0266431d924d566252ca037a",
            "194d09f00f064bf4b478d37e85b4c7e1",
            "abb0139e07104e0a8a671d8e740b1b56",
            "b6acb8d6144f4a7c9ec33cf3b5abbc1a",
            "1cfc3747adcf4d78a85c0c8b1cf0af42",
            "7d43455d7b7b4bd4a89684d478d9f99d",
            "eb67b8de41f547b9ad805c0023ccb1df",
            "a38f74544ea14133934885736f3d57ca",
            "494fe0c63d6943b8b2e14b8ff0894624"
          ]
        },
        "id": "k9sCH-vy1N0o",
        "outputId": "1bffbf9d-7d2d-4df6-9275-4f63e4d91779"
      },
      "outputs": [
        {
          "data": {
            "application/vnd.jupyter.widget-view+json": {
              "model_id": "494fe0c63d6943b8b2e14b8ff0894624",
              "version_major": 2,
              "version_minor": 0
            },
            "text/plain": [
              "  0%|          | 0/4556 [00:00<?, ?it/s]"
            ]
          },
          "metadata": {},
          "output_type": "display_data"
        }
      ],
      "source": [
        "from tqdm.notebook import tqdm\n",
        "bc_list = []\n",
        "\n",
        "for ind in tqdm(range(len(bc_node))):\n",
        "  counter = 0\n",
        "  for f in bf_list:\n",
        "    v = x_head[f_node[3*f  ]] - x[ind]\n",
        "    u = x_head[f_node[3*f+1]] - x[ind]\n",
        "    w = x_head[f_node[3*f+2]] - x[ind]\n",
        "    \n",
        "    v[2] = 0\n",
        "    u[2] = 0\n",
        "    w[2] = 0\n",
        "\n",
        "    if np.linalg.norm(v,ord=1) < av_len_head*7:\n",
        "      if np.linalg.norm(u,ord=1)  < av_len_head*7:\n",
        "        if np.linalg.norm(w,ord=1)  < av_len_head*7:\n",
        "          if contact(f, ind):\n",
        "            #print(\"FIND!\")\n",
        "            counter+=1\n",
        "\n",
        "  if counter%2==1:\n",
        "    #print(\"CONTACT!\")\n",
        "    bc_list.append(ind)"
      ]
    },
    {
      "cell_type": "code",
      "execution_count": null,
      "metadata": {
        "colab": {
          "base_uri": "https://localhost:8080/"
        },
        "id": "NDnj00Br3h3v",
        "outputId": "93be4cda-299d-45b0-a651-c087594bb138"
      },
      "outputs": [
        {
          "data": {
            "text/plain": [
              "71"
            ]
          },
          "execution_count": 144,
          "metadata": {},
          "output_type": "execute_result"
        }
      ],
      "source": [
        "len(bc_list)"
      ]
    },
    {
      "cell_type": "code",
      "execution_count": null,
      "metadata": {
        "id": "nllBU8hO9ZTe"
      },
      "outputs": [],
      "source": [
        "import csv\n",
        "import os \n",
        "path = './bc_list.csv'\n",
        "#if not os.path.exists(path):\n",
        "#  os.mkdir(path)\n",
        "\n",
        "with open(path, 'w') as f:\n",
        "    writer = csv.writer(f)\n",
        "    writer.writerow([\"x\", \"y\", \"z\", \"1\"])\n",
        "    for ind in range(len(bc_list)):\n",
        "      writer.writerow([x[bc_list[ind], 0], x[bc_list[ind], 1], x[bc_list[ind], 2], 1])"
      ]
    },
    {
      "cell_type": "markdown",
      "metadata": {
        "id": "WR1Az-w6jEGk"
      },
      "source": [
        "### Boundary conditions"
      ]
    },
    {
      "cell_type": "code",
      "execution_count": null,
      "metadata": {
        "colab": {
          "base_uri": "https://localhost:8080/"
        },
        "id": "57tlyhEkjHEX",
        "outputId": "e903b7df-b2c0-4c4b-ea51-8ed89b126646"
      },
      "outputs": [
        {
          "name": "stdout",
          "output_type": "stream",
          "text": [
            "7174\n"
          ]
        }
      ],
      "source": [
        "bf_barycenter_head = []\n",
        "\n",
        "for f in bf_list:\n",
        "  n0 = f_node[3*f  ]\n",
        "  n1 = f_node[3*f+1]\n",
        "  n2 = f_node[3*f+2]\n",
        "\n",
        "  x_bar = (x_head[n0] + x_head[n1] + x_head[n2])/3\n",
        "  bf_barycenter_head.append(x_bar)\n",
        "\n",
        "print(len(bf_barycenter_head))"
      ]
    },
    {
      "cell_type": "code",
      "execution_count": null,
      "metadata": {
        "id": "gkLcZQi_lESm"
      },
      "outputs": [],
      "source": [
        "def distance(x1, y1, z1, x2, y2, z2):\n",
        "  distance = np.sqrt((x1 - x2)**2 + (y1 - y2)**2 + (z1 - z2)**2)\n",
        "  return distance\n",
        "\n",
        "def min_distance_bar(n_ind):\n",
        "  x1 = x[n_ind, 0]\n",
        "  y1 = x[n_ind, 1]\n",
        "  z1 = x[n_ind, 2]\n",
        "\n",
        "  for i, bar in enumerate(bf_barycenter_head):\n",
        "    dis_tmp = distance(x1, y1, z1, bar[0], bar[1], bar[2])\n",
        "    if i == 0:\n",
        "      min_distance = dis_tmp\n",
        "      min_f = bf_list[i]\n",
        "    elif dis_tmp < min_distance:\n",
        "      min_distance = dis_tmp\n",
        "      min_f = bf_list[i]\n",
        "  \n",
        "  return min_f, min_distance"
      ]
    },
    {
      "cell_type": "code",
      "execution_count": null,
      "metadata": {
        "id": "adBWUw7Hjakq"
      },
      "outputs": [],
      "source": [
        "def perpendicular(f, p_ind):\n",
        "    # f : some face in head's surface\n",
        "    # n : some node in helmet's surface\n",
        "    a = x_head[f_node[3*f+1]] - x_head[f_node[3*f  ]]\n",
        "    b = x_head[f_node[3*f+2]] - x_head[f_node[3*f  ]]\n",
        "    \n",
        "    n = np.cross(a, b)\n",
        "    c = - n/np.linalg.norm(n)\n",
        "    d = x[p_ind] - x_head[f_node[3*f  ]]\n",
        "\n",
        "    u = det(d, b, c)/det(a, b, c)\n",
        "    v = det(a, d, c)/det(a, b, c)\n",
        "    t = det(a, b, d)/det(a, b, c)\n",
        "    \n",
        "    q = x_head[f_node[3*f  ]] + u*a + v*b\n",
        "    \n",
        "    return q"
      ]
    },
    {
      "cell_type": "code",
      "execution_count": null,
      "metadata": {
        "colab": {
          "base_uri": "https://localhost:8080/",
          "referenced_widgets": [
            "fc516465aa1047b293e49016441ce04f",
            "ab812f78269d445f9d6764b6cafe3f05",
            "c0177bc8cae045d5baf6585adfbfc08d",
            "6c0e18af046d485eb5e91df59d978a6a",
            "d9640cab6c3b41ea86a6a29cd425af8a",
            "2293a4833e3e44618f0679c6874771e2",
            "3a2603a754024223a373caa71464520b",
            "0edf1686f99d4eae8615d3859ec30cf3",
            "cd9ea75e4256420a86328542cb1ebf63",
            "562502fcebca47fe89ce769a96468a79",
            "9fce62ae6d5c45a78fcc2a58ea847f30",
            "c5bd1b7f54b7444ca0a05f38b5f92f66"
          ]
        },
        "id": "f657KkEvk4MH",
        "outputId": "e990f04f-fce9-499a-fd7d-e237c31f8575"
      },
      "outputs": [
        {
          "data": {
            "application/vnd.jupyter.widget-view+json": {
              "model_id": "c5bd1b7f54b7444ca0a05f38b5f92f66",
              "version_major": 2,
              "version_minor": 0
            },
            "text/plain": [
              "  0%|          | 0/71 [00:00<?, ?it/s]"
            ]
          },
          "metadata": {},
          "output_type": "display_data"
        }
      ],
      "source": [
        "bc_coordinates = []\n",
        "bc_face_head = []\n",
        "bc_element_head = []\n",
        "bc_RF_helmet = []\n",
        "\n",
        "# bc_face_head: ヘルメットと接触する面\n",
        "# bc_element_head: ヘルメットと接触する面を含む四面体\n",
        "# bc_RF_helmet: 頭と接触する節点\n",
        "# 上の二つの配列の順番は対応する\n",
        "\n",
        "for n in tqdm(bc_list):\n",
        "  f, _ = min_distance_bar(n)\n",
        "  bc_face_head.append(f)\n",
        "  bc_element_head.append(f_e_link[2*f])\n",
        "  bc_RF_helmet.append(n)\n",
        "  if not f_e_link[2*f+1] == -1:\n",
        "    print(\"!頭の表面ではない面が入力されている!\")\n",
        "  \n",
        "  # 垂線の足パターン\n",
        "  q = perpendicular(f, n)\n",
        "  bc_coordinates.append(q)\n",
        "\n",
        "  # 重心パターン あんまり良くない？\n",
        "  #bc_coordinates.append(bf_barycenter_head[f])"
      ]
    },
    {
      "cell_type": "code",
      "execution_count": null,
      "metadata": {
        "id": "lNE-7bpjjakr"
      },
      "outputs": [],
      "source": []
    },
    {
      "cell_type": "code",
      "execution_count": null,
      "metadata": {
        "id": "swB7B3Mhjakr"
      },
      "outputs": [],
      "source": []
    },
    {
      "cell_type": "code",
      "execution_count": null,
      "metadata": {
        "id": "l0UqEeC3jakr",
        "outputId": "53b1bd6e-48cd-4566-ee4f-6b693a248713"
      },
      "outputs": [
        {
          "name": "stdout",
          "output_type": "stream",
          "text": [
            "74.52728220613949\n",
            "344\n"
          ]
        }
      ],
      "source": [
        "# Boundary Condition for force\n",
        "z_max = - 100\n",
        "for ind in range(len(x)):\n",
        "    z_tmp = x[ind, 2]\n",
        "    if z_tmp > z_max:\n",
        "        z_max = z_tmp\n",
        "        max_ind = ind\n",
        "\n",
        "print(z_max)\n",
        "print(max_ind)"
      ]
    },
    {
      "cell_type": "markdown",
      "metadata": {
        "id": "Ap6FC0Gc5RVW"
      },
      "source": [
        "### Analysis"
      ]
    },
    {
      "cell_type": "code",
      "execution_count": null,
      "metadata": {
        "id": "0CqE_fzNZ6Cp",
        "outputId": "1c83b747-b0a1-4ef8-9b7e-0a8fff5c892c"
      },
      "outputs": [
        {
          "data": {
            "text/plain": [
              "(array([-0.00211499, -0.01132257,  0.00123677, ...,  0.01047796,\n",
              "        -0.01187999,  0.01710019]),\n",
              " array([ 0.00000000e+00,  2.23517418e-08, -6.51925802e-09, ...,\n",
              "        -2.08616257e-07,  1.49011612e-08, -3.27825546e-07]))"
            ]
          },
          "execution_count": 157,
          "metadata": {},
          "output_type": "execute_result"
        }
      ],
      "source": [
        "# 材料情報を定義する\n",
        "young = 1.0e9\n",
        "poisson = 0.3\n",
        "density = 950.0\n",
        "#vecGrav = np.array([0.0, 0.0, -9.81])\n",
        "nodes = []\n",
        "elems = []\n",
        "\n",
        "nodes_head = []\n",
        "elems_head = []\n",
        "\n",
        "# ヘルメット\n",
        "# 節点を定義する\n",
        "for ind in range(len(x)):\n",
        "  node = Node(ind, x[ind, 0], x[ind, 1], x[ind, 2])\n",
        "  nodes.append(node)\n",
        "\n",
        "# 要素を定義する\n",
        "for ind in range(len(ele)):\n",
        "  node0 = Node(ele[ind][0], x[ele[ind][0], 0], x[ele[ind][0], 1], x[ele[ind][0], 2])\n",
        "  node1 = Node(ele[ind][1], x[ele[ind][1], 0], x[ele[ind][1], 1], x[ele[ind][1], 2])\n",
        "  node2 = Node(ele[ind][2], x[ele[ind][2], 0], x[ele[ind][2], 1], x[ele[ind][2], 2])\n",
        "  node3 = Node(ele[ind][3], x[ele[ind][3], 0], x[ele[ind][3], 1], x[ele[ind][3], 2])\n",
        "  elems.append(C3D4(ind, [node0, node1, node2, node3], young, poisson, density))\n",
        "\n",
        "# 頭\n",
        "# 節点を定義する\n",
        "for ind in range(len(x_head)):\n",
        "  node = Node(ind, x_head[ind, 0], x_head[ind, 1], x_head[ind, 2])\n",
        "  nodes_head.append(node)\n",
        "\n",
        "# 要素を定義する\n",
        "for ind in range(len(ele_head)):\n",
        "  node0 = Node(ele_head[ind][0], x_head[ele_head[ind][0], 0], x_head[ele_head[ind][0], 1], x_head[ele_head[ind][0], 2])\n",
        "  node1 = Node(ele_head[ind][1], x_head[ele_head[ind][1], 0], x_head[ele_head[ind][1], 1], x_head[ele_head[ind][1], 2])\n",
        "  node2 = Node(ele_head[ind][2], x_head[ele_head[ind][2], 0], x_head[ele_head[ind][2], 1], x_head[ele_head[ind][2], 2])\n",
        "  node3 = Node(ele_head[ind][3], x_head[ele_head[ind][3], 0], x_head[ele_head[ind][3], 1], x_head[ele_head[ind][3], 2])\n",
        "  elems_head.append(C3D4(ind, [node0, node1, node2, node3], young, poisson, density))\n",
        "\n",
        "bound = Boundary(len(nodes))\n",
        "for i, n_ind in enumerate(bc_list):\n",
        "    \n",
        "  bound.addSPC(n_ind, bc_coordinates[i][0] - x[n_ind, 0], bc_coordinates[i][1] - x[n_ind, 1], \n",
        "               bc_coordinates[i][2] - x[n_ind, 2])\n",
        "\n",
        "# force　boundary condition\n",
        "\n",
        "# 解析を行う\n",
        "fem = FEM(nodes, elems, nodes_head, elems_head, bound)\n",
        "fem.analysis()"
      ]
    },
    {
      "cell_type": "code",
      "execution_count": null,
      "metadata": {
        "id": "7A1RDsVyjaks"
      },
      "outputs": [],
      "source": [
        "fem.outputTxt(\"test\")"
      ]
    },
    {
      "cell_type": "code",
      "execution_count": null,
      "metadata": {
        "id": "IAOq8IxA9Tqj"
      },
      "outputs": [],
      "source": [
        "#　出力\n",
        "fem.outputVtk(\"test_helmet\", \"test_head\")"
      ]
    },
    {
      "cell_type": "code",
      "execution_count": null,
      "metadata": {
        "id": "gJnvMNDUYo4I"
      },
      "outputs": [],
      "source": []
    },
    {
      "cell_type": "code",
      "execution_count": null,
      "metadata": {
        "id": "Olt2y9drjaks"
      },
      "outputs": [],
      "source": []
    },
    {
      "cell_type": "code",
      "execution_count": null,
      "metadata": {
        "id": "Hc5zLjdGjaks"
      },
      "outputs": [],
      "source": [
        "### 確認用"
      ]
    },
    {
      "cell_type": "code",
      "execution_count": null,
      "metadata": {
        "id": "dKGyrdVajaks"
      },
      "outputs": [],
      "source": [
        "node0 = Node(0, 0, 0, 0)\n",
        "node1 = Node(1, 1, 0, 0)\n",
        "node2 = Node(2, 0, 1, 0)\n",
        "node3 = Node(3, 0, 0, 1)\n",
        "\n",
        "ele = C3D4(0, [node0, node1, node2, node3], young, poisson, density)\n",
        "matB = ele.makeBmatrix()"
      ]
    },
    {
      "cell_type": "code",
      "execution_count": null,
      "metadata": {
        "id": "kI2whHe9jaks",
        "outputId": "1a4f919e-bf27-4bad-f4f0-488ed6cc4503"
      },
      "outputs": [
        {
          "data": {
            "text/plain": [
              "array([[-1.,  0.,  0.,  1.,  0.,  0.,  0.,  0.,  0.,  0.,  0.,  0.],\n",
              "       [ 0., -1.,  0.,  0.,  0.,  0.,  0.,  1.,  0.,  0.,  0.,  0.],\n",
              "       [ 0.,  0., -1.,  0.,  0.,  0.,  0.,  0.,  0.,  0.,  0.,  1.],\n",
              "       [ 0., -1., -1.,  0.,  0.,  0.,  0.,  0.,  1.,  0.,  1.,  0.],\n",
              "       [-1.,  0., -1.,  0.,  0.,  1.,  0.,  0.,  0.,  1.,  0.,  0.],\n",
              "       [-1., -1.,  0.,  0.,  1.,  0.,  1.,  0.,  0.,  0.,  0.,  0.]])"
            ]
          },
          "execution_count": 24,
          "metadata": {},
          "output_type": "execute_result"
        }
      ],
      "source": [
        "matB"
      ]
    },
    {
      "cell_type": "code",
      "execution_count": null,
      "metadata": {
        "id": "EEkBe-LFjakt"
      },
      "outputs": [],
      "source": [
        "young = 210e9\n",
        "poisson = 0.3\n",
        "\n",
        "matD = Dmatrix(young, poisson)"
      ]
    },
    {
      "cell_type": "code",
      "execution_count": null,
      "metadata": {
        "id": "utB4xOdmjakt",
        "outputId": "fe869c40-3acb-44cf-b51c-599a530a4efb"
      },
      "outputs": [
        {
          "data": {
            "text/plain": [
              "array([[2.82692308e+11, 1.21153846e+11, 1.21153846e+11, 0.00000000e+00,\n",
              "        0.00000000e+00, 0.00000000e+00],\n",
              "       [1.21153846e+11, 2.82692308e+11, 1.21153846e+11, 0.00000000e+00,\n",
              "        0.00000000e+00, 0.00000000e+00],\n",
              "       [1.21153846e+11, 1.21153846e+11, 2.82692308e+11, 0.00000000e+00,\n",
              "        0.00000000e+00, 0.00000000e+00],\n",
              "       [0.00000000e+00, 0.00000000e+00, 0.00000000e+00, 8.07692308e+10,\n",
              "        0.00000000e+00, 0.00000000e+00],\n",
              "       [0.00000000e+00, 0.00000000e+00, 0.00000000e+00, 0.00000000e+00,\n",
              "        8.07692308e+10, 0.00000000e+00],\n",
              "       [0.00000000e+00, 0.00000000e+00, 0.00000000e+00, 0.00000000e+00,\n",
              "        0.00000000e+00, 8.07692308e+10]])"
            ]
          },
          "execution_count": 34,
          "metadata": {},
          "output_type": "execute_result"
        }
      ],
      "source": [
        "matD.makeDematrix()"
      ]
    },
    {
      "cell_type": "code",
      "execution_count": null,
      "metadata": {
        "id": "sNoWiNRqjakt"
      },
      "outputs": [],
      "source": [
        "matK = fem.makeKmatrix()"
      ]
    },
    {
      "cell_type": "code",
      "execution_count": null,
      "metadata": {
        "id": "fhUNqEH6jakt",
        "outputId": "b99b652a-8662-4bb2-9dba-ec6ff7d920e4"
      },
      "outputs": [
        {
          "data": {
            "text/plain": [
              "(13668, 13668)"
            ]
          },
          "execution_count": 93,
          "metadata": {},
          "output_type": "execute_result"
        }
      ],
      "source": [
        "matK.shape"
      ]
    },
    {
      "cell_type": "code",
      "execution_count": null,
      "metadata": {
        "id": "zhEAYhJHjakt",
        "outputId": "3dc87229-9117-4765-b420-2c4ed71fba30"
      },
      "outputs": [
        {
          "name": "stdout",
          "output_type": "stream",
          "text": [
            "13668\n",
            "34863\n"
          ]
        }
      ],
      "source": [
        "print(len(nodes)*3)\n",
        "print(len(nodes_head)*3)"
      ]
    },
    {
      "cell_type": "code",
      "execution_count": null,
      "metadata": {
        "id": "eamyW4VVjakt"
      },
      "outputs": [],
      "source": []
    }
  ],
  "metadata": {
    "colab": {
      "collapsed_sections": [
        "Gqvux6ZNxb53",
        "Q7KMLmqbVsBl",
        "_-2c38jBMTkZ",
        "kUlxhultL36i"
      ],
      "provenance": [],
      "include_colab_link": true
    },
    "kernelspec": {
      "display_name": "Python 3 (ipykernel)",
      "language": "python",
      "name": "python3"
    },
    "language_info": {
      "codemirror_mode": {
        "name": "ipython",
        "version": 3
      },
      "file_extension": ".py",
      "mimetype": "text/x-python",
      "name": "python",
      "nbconvert_exporter": "python",
      "pygments_lexer": "ipython3",
      "version": "3.10.9"
    },
    "widgets": {
      "application/vnd.jupyter.widget-state+json": {
        "0edf1686f99d4eae8615d3859ec30cf3": {
          "model_module": "@jupyter-widgets/base",
          "model_module_version": "1.2.0",
          "model_name": "LayoutModel",
          "state": {
            "_model_module": "@jupyter-widgets/base",
            "_model_module_version": "1.2.0",
            "_model_name": "LayoutModel",
            "_view_count": null,
            "_view_module": "@jupyter-widgets/base",
            "_view_module_version": "1.2.0",
            "_view_name": "LayoutView",
            "align_content": null,
            "align_items": null,
            "align_self": null,
            "border": null,
            "bottom": null,
            "display": null,
            "flex": null,
            "flex_flow": null,
            "grid_area": null,
            "grid_auto_columns": null,
            "grid_auto_flow": null,
            "grid_auto_rows": null,
            "grid_column": null,
            "grid_gap": null,
            "grid_row": null,
            "grid_template_areas": null,
            "grid_template_columns": null,
            "grid_template_rows": null,
            "height": null,
            "justify_content": null,
            "justify_items": null,
            "left": null,
            "margin": null,
            "max_height": null,
            "max_width": null,
            "min_height": null,
            "min_width": null,
            "object_fit": null,
            "object_position": null,
            "order": null,
            "overflow": null,
            "overflow_x": null,
            "overflow_y": null,
            "padding": null,
            "right": null,
            "top": null,
            "visibility": null,
            "width": null
          }
        },
        "194d09f00f064bf4b478d37e85b4c7e1": {
          "model_module": "@jupyter-widgets/base",
          "model_module_version": "1.2.0",
          "model_name": "LayoutModel",
          "state": {
            "_model_module": "@jupyter-widgets/base",
            "_model_module_version": "1.2.0",
            "_model_name": "LayoutModel",
            "_view_count": null,
            "_view_module": "@jupyter-widgets/base",
            "_view_module_version": "1.2.0",
            "_view_name": "LayoutView",
            "align_content": null,
            "align_items": null,
            "align_self": null,
            "border": null,
            "bottom": null,
            "display": null,
            "flex": null,
            "flex_flow": null,
            "grid_area": null,
            "grid_auto_columns": null,
            "grid_auto_flow": null,
            "grid_auto_rows": null,
            "grid_column": null,
            "grid_gap": null,
            "grid_row": null,
            "grid_template_areas": null,
            "grid_template_columns": null,
            "grid_template_rows": null,
            "height": null,
            "justify_content": null,
            "justify_items": null,
            "left": null,
            "margin": null,
            "max_height": null,
            "max_width": null,
            "min_height": null,
            "min_width": null,
            "object_fit": null,
            "object_position": null,
            "order": null,
            "overflow": null,
            "overflow_x": null,
            "overflow_y": null,
            "padding": null,
            "right": null,
            "top": null,
            "visibility": null,
            "width": null
          }
        },
        "1cfc3747adcf4d78a85c0c8b1cf0af42": {
          "model_module": "@jupyter-widgets/base",
          "model_module_version": "1.2.0",
          "model_name": "LayoutModel",
          "state": {
            "_model_module": "@jupyter-widgets/base",
            "_model_module_version": "1.2.0",
            "_model_name": "LayoutModel",
            "_view_count": null,
            "_view_module": "@jupyter-widgets/base",
            "_view_module_version": "1.2.0",
            "_view_name": "LayoutView",
            "align_content": null,
            "align_items": null,
            "align_self": null,
            "border": null,
            "bottom": null,
            "display": null,
            "flex": null,
            "flex_flow": null,
            "grid_area": null,
            "grid_auto_columns": null,
            "grid_auto_flow": null,
            "grid_auto_rows": null,
            "grid_column": null,
            "grid_gap": null,
            "grid_row": null,
            "grid_template_areas": null,
            "grid_template_columns": null,
            "grid_template_rows": null,
            "height": null,
            "justify_content": null,
            "justify_items": null,
            "left": null,
            "margin": null,
            "max_height": null,
            "max_width": null,
            "min_height": null,
            "min_width": null,
            "object_fit": null,
            "object_position": null,
            "order": null,
            "overflow": null,
            "overflow_x": null,
            "overflow_y": null,
            "padding": null,
            "right": null,
            "top": null,
            "visibility": null,
            "width": null
          }
        },
        "2293a4833e3e44618f0679c6874771e2": {
          "model_module": "@jupyter-widgets/base",
          "model_module_version": "1.2.0",
          "model_name": "LayoutModel",
          "state": {
            "_model_module": "@jupyter-widgets/base",
            "_model_module_version": "1.2.0",
            "_model_name": "LayoutModel",
            "_view_count": null,
            "_view_module": "@jupyter-widgets/base",
            "_view_module_version": "1.2.0",
            "_view_name": "LayoutView",
            "align_content": null,
            "align_items": null,
            "align_self": null,
            "border": null,
            "bottom": null,
            "display": null,
            "flex": null,
            "flex_flow": null,
            "grid_area": null,
            "grid_auto_columns": null,
            "grid_auto_flow": null,
            "grid_auto_rows": null,
            "grid_column": null,
            "grid_gap": null,
            "grid_row": null,
            "grid_template_areas": null,
            "grid_template_columns": null,
            "grid_template_rows": null,
            "height": null,
            "justify_content": null,
            "justify_items": null,
            "left": null,
            "margin": null,
            "max_height": null,
            "max_width": null,
            "min_height": null,
            "min_width": null,
            "object_fit": null,
            "object_position": null,
            "order": null,
            "overflow": null,
            "overflow_x": null,
            "overflow_y": null,
            "padding": null,
            "right": null,
            "top": null,
            "visibility": null,
            "width": null
          }
        },
        "3a1f687989b54aca9d3ab898d70b94cb": {
          "model_module": "@jupyter-widgets/controls",
          "model_module_version": "1.5.0",
          "model_name": "HBoxModel",
          "state": {
            "_dom_classes": [],
            "_model_module": "@jupyter-widgets/controls",
            "_model_module_version": "1.5.0",
            "_model_name": "HBoxModel",
            "_view_count": null,
            "_view_module": "@jupyter-widgets/controls",
            "_view_module_version": "1.5.0",
            "_view_name": "HBoxView",
            "box_style": "",
            "children": [
              "IPY_MODEL_75573af5210f463fb132707ac3976efa",
              "IPY_MODEL_4a5eeba1348842828dce8181e7ea6b04",
              "IPY_MODEL_dce17cda0266431d924d566252ca037a"
            ],
            "layout": "IPY_MODEL_194d09f00f064bf4b478d37e85b4c7e1"
          }
        },
        "3a2603a754024223a373caa71464520b": {
          "model_module": "@jupyter-widgets/controls",
          "model_module_version": "1.5.0",
          "model_name": "DescriptionStyleModel",
          "state": {
            "_model_module": "@jupyter-widgets/controls",
            "_model_module_version": "1.5.0",
            "_model_name": "DescriptionStyleModel",
            "_view_count": null,
            "_view_module": "@jupyter-widgets/base",
            "_view_module_version": "1.2.0",
            "_view_name": "StyleView",
            "description_width": ""
          }
        },
        "4a5eeba1348842828dce8181e7ea6b04": {
          "model_module": "@jupyter-widgets/controls",
          "model_module_version": "1.5.0",
          "model_name": "FloatProgressModel",
          "state": {
            "_dom_classes": [],
            "_model_module": "@jupyter-widgets/controls",
            "_model_module_version": "1.5.0",
            "_model_name": "FloatProgressModel",
            "_view_count": null,
            "_view_module": "@jupyter-widgets/controls",
            "_view_module_version": "1.5.0",
            "_view_name": "ProgressView",
            "bar_style": "success",
            "description": "",
            "description_tooltip": null,
            "layout": "IPY_MODEL_1cfc3747adcf4d78a85c0c8b1cf0af42",
            "max": 11942,
            "min": 0,
            "orientation": "horizontal",
            "style": "IPY_MODEL_7d43455d7b7b4bd4a89684d478d9f99d",
            "value": 11942
          }
        },
        "562502fcebca47fe89ce769a96468a79": {
          "model_module": "@jupyter-widgets/base",
          "model_module_version": "1.2.0",
          "model_name": "LayoutModel",
          "state": {
            "_model_module": "@jupyter-widgets/base",
            "_model_module_version": "1.2.0",
            "_model_name": "LayoutModel",
            "_view_count": null,
            "_view_module": "@jupyter-widgets/base",
            "_view_module_version": "1.2.0",
            "_view_name": "LayoutView",
            "align_content": null,
            "align_items": null,
            "align_self": null,
            "border": null,
            "bottom": null,
            "display": null,
            "flex": null,
            "flex_flow": null,
            "grid_area": null,
            "grid_auto_columns": null,
            "grid_auto_flow": null,
            "grid_auto_rows": null,
            "grid_column": null,
            "grid_gap": null,
            "grid_row": null,
            "grid_template_areas": null,
            "grid_template_columns": null,
            "grid_template_rows": null,
            "height": null,
            "justify_content": null,
            "justify_items": null,
            "left": null,
            "margin": null,
            "max_height": null,
            "max_width": null,
            "min_height": null,
            "min_width": null,
            "object_fit": null,
            "object_position": null,
            "order": null,
            "overflow": null,
            "overflow_x": null,
            "overflow_y": null,
            "padding": null,
            "right": null,
            "top": null,
            "visibility": null,
            "width": null
          }
        },
        "6c0e18af046d485eb5e91df59d978a6a": {
          "model_module": "@jupyter-widgets/controls",
          "model_module_version": "1.5.0",
          "model_name": "HTMLModel",
          "state": {
            "_dom_classes": [],
            "_model_module": "@jupyter-widgets/controls",
            "_model_module_version": "1.5.0",
            "_model_name": "HTMLModel",
            "_view_count": null,
            "_view_module": "@jupyter-widgets/controls",
            "_view_module_version": "1.5.0",
            "_view_name": "HTMLView",
            "description": "",
            "description_tooltip": null,
            "layout": "IPY_MODEL_562502fcebca47fe89ce769a96468a79",
            "placeholder": "​",
            "style": "IPY_MODEL_9fce62ae6d5c45a78fcc2a58ea847f30",
            "value": " 370/370 [00:32&lt;00:00,  8.30it/s]"
          }
        },
        "75573af5210f463fb132707ac3976efa": {
          "model_module": "@jupyter-widgets/controls",
          "model_module_version": "1.5.0",
          "model_name": "HTMLModel",
          "state": {
            "_dom_classes": [],
            "_model_module": "@jupyter-widgets/controls",
            "_model_module_version": "1.5.0",
            "_model_name": "HTMLModel",
            "_view_count": null,
            "_view_module": "@jupyter-widgets/controls",
            "_view_module_version": "1.5.0",
            "_view_name": "HTMLView",
            "description": "",
            "description_tooltip": null,
            "layout": "IPY_MODEL_abb0139e07104e0a8a671d8e740b1b56",
            "placeholder": "​",
            "style": "IPY_MODEL_b6acb8d6144f4a7c9ec33cf3b5abbc1a",
            "value": "100%"
          }
        },
        "7d43455d7b7b4bd4a89684d478d9f99d": {
          "model_module": "@jupyter-widgets/controls",
          "model_module_version": "1.5.0",
          "model_name": "ProgressStyleModel",
          "state": {
            "_model_module": "@jupyter-widgets/controls",
            "_model_module_version": "1.5.0",
            "_model_name": "ProgressStyleModel",
            "_view_count": null,
            "_view_module": "@jupyter-widgets/base",
            "_view_module_version": "1.2.0",
            "_view_name": "StyleView",
            "bar_color": null,
            "description_width": ""
          }
        },
        "9fce62ae6d5c45a78fcc2a58ea847f30": {
          "model_module": "@jupyter-widgets/controls",
          "model_module_version": "1.5.0",
          "model_name": "DescriptionStyleModel",
          "state": {
            "_model_module": "@jupyter-widgets/controls",
            "_model_module_version": "1.5.0",
            "_model_name": "DescriptionStyleModel",
            "_view_count": null,
            "_view_module": "@jupyter-widgets/base",
            "_view_module_version": "1.2.0",
            "_view_name": "StyleView",
            "description_width": ""
          }
        },
        "a38f74544ea14133934885736f3d57ca": {
          "model_module": "@jupyter-widgets/controls",
          "model_module_version": "1.5.0",
          "model_name": "DescriptionStyleModel",
          "state": {
            "_model_module": "@jupyter-widgets/controls",
            "_model_module_version": "1.5.0",
            "_model_name": "DescriptionStyleModel",
            "_view_count": null,
            "_view_module": "@jupyter-widgets/base",
            "_view_module_version": "1.2.0",
            "_view_name": "StyleView",
            "description_width": ""
          }
        },
        "ab812f78269d445f9d6764b6cafe3f05": {
          "model_module": "@jupyter-widgets/controls",
          "model_module_version": "1.5.0",
          "model_name": "HTMLModel",
          "state": {
            "_dom_classes": [],
            "_model_module": "@jupyter-widgets/controls",
            "_model_module_version": "1.5.0",
            "_model_name": "HTMLModel",
            "_view_count": null,
            "_view_module": "@jupyter-widgets/controls",
            "_view_module_version": "1.5.0",
            "_view_name": "HTMLView",
            "description": "",
            "description_tooltip": null,
            "layout": "IPY_MODEL_2293a4833e3e44618f0679c6874771e2",
            "placeholder": "​",
            "style": "IPY_MODEL_3a2603a754024223a373caa71464520b",
            "value": "100%"
          }
        },
        "abb0139e07104e0a8a671d8e740b1b56": {
          "model_module": "@jupyter-widgets/base",
          "model_module_version": "1.2.0",
          "model_name": "LayoutModel",
          "state": {
            "_model_module": "@jupyter-widgets/base",
            "_model_module_version": "1.2.0",
            "_model_name": "LayoutModel",
            "_view_count": null,
            "_view_module": "@jupyter-widgets/base",
            "_view_module_version": "1.2.0",
            "_view_name": "LayoutView",
            "align_content": null,
            "align_items": null,
            "align_self": null,
            "border": null,
            "bottom": null,
            "display": null,
            "flex": null,
            "flex_flow": null,
            "grid_area": null,
            "grid_auto_columns": null,
            "grid_auto_flow": null,
            "grid_auto_rows": null,
            "grid_column": null,
            "grid_gap": null,
            "grid_row": null,
            "grid_template_areas": null,
            "grid_template_columns": null,
            "grid_template_rows": null,
            "height": null,
            "justify_content": null,
            "justify_items": null,
            "left": null,
            "margin": null,
            "max_height": null,
            "max_width": null,
            "min_height": null,
            "min_width": null,
            "object_fit": null,
            "object_position": null,
            "order": null,
            "overflow": null,
            "overflow_x": null,
            "overflow_y": null,
            "padding": null,
            "right": null,
            "top": null,
            "visibility": null,
            "width": null
          }
        },
        "b6acb8d6144f4a7c9ec33cf3b5abbc1a": {
          "model_module": "@jupyter-widgets/controls",
          "model_module_version": "1.5.0",
          "model_name": "DescriptionStyleModel",
          "state": {
            "_model_module": "@jupyter-widgets/controls",
            "_model_module_version": "1.5.0",
            "_model_name": "DescriptionStyleModel",
            "_view_count": null,
            "_view_module": "@jupyter-widgets/base",
            "_view_module_version": "1.2.0",
            "_view_name": "StyleView",
            "description_width": ""
          }
        },
        "c0177bc8cae045d5baf6585adfbfc08d": {
          "model_module": "@jupyter-widgets/controls",
          "model_module_version": "1.5.0",
          "model_name": "FloatProgressModel",
          "state": {
            "_dom_classes": [],
            "_model_module": "@jupyter-widgets/controls",
            "_model_module_version": "1.5.0",
            "_model_name": "FloatProgressModel",
            "_view_count": null,
            "_view_module": "@jupyter-widgets/controls",
            "_view_module_version": "1.5.0",
            "_view_name": "ProgressView",
            "bar_style": "success",
            "description": "",
            "description_tooltip": null,
            "layout": "IPY_MODEL_0edf1686f99d4eae8615d3859ec30cf3",
            "max": 370,
            "min": 0,
            "orientation": "horizontal",
            "style": "IPY_MODEL_cd9ea75e4256420a86328542cb1ebf63",
            "value": 370
          }
        },
        "cd9ea75e4256420a86328542cb1ebf63": {
          "model_module": "@jupyter-widgets/controls",
          "model_module_version": "1.5.0",
          "model_name": "ProgressStyleModel",
          "state": {
            "_model_module": "@jupyter-widgets/controls",
            "_model_module_version": "1.5.0",
            "_model_name": "ProgressStyleModel",
            "_view_count": null,
            "_view_module": "@jupyter-widgets/base",
            "_view_module_version": "1.2.0",
            "_view_name": "StyleView",
            "bar_color": null,
            "description_width": ""
          }
        },
        "d9640cab6c3b41ea86a6a29cd425af8a": {
          "model_module": "@jupyter-widgets/base",
          "model_module_version": "1.2.0",
          "model_name": "LayoutModel",
          "state": {
            "_model_module": "@jupyter-widgets/base",
            "_model_module_version": "1.2.0",
            "_model_name": "LayoutModel",
            "_view_count": null,
            "_view_module": "@jupyter-widgets/base",
            "_view_module_version": "1.2.0",
            "_view_name": "LayoutView",
            "align_content": null,
            "align_items": null,
            "align_self": null,
            "border": null,
            "bottom": null,
            "display": null,
            "flex": null,
            "flex_flow": null,
            "grid_area": null,
            "grid_auto_columns": null,
            "grid_auto_flow": null,
            "grid_auto_rows": null,
            "grid_column": null,
            "grid_gap": null,
            "grid_row": null,
            "grid_template_areas": null,
            "grid_template_columns": null,
            "grid_template_rows": null,
            "height": null,
            "justify_content": null,
            "justify_items": null,
            "left": null,
            "margin": null,
            "max_height": null,
            "max_width": null,
            "min_height": null,
            "min_width": null,
            "object_fit": null,
            "object_position": null,
            "order": null,
            "overflow": null,
            "overflow_x": null,
            "overflow_y": null,
            "padding": null,
            "right": null,
            "top": null,
            "visibility": null,
            "width": null
          }
        },
        "dce17cda0266431d924d566252ca037a": {
          "model_module": "@jupyter-widgets/controls",
          "model_module_version": "1.5.0",
          "model_name": "HTMLModel",
          "state": {
            "_dom_classes": [],
            "_model_module": "@jupyter-widgets/controls",
            "_model_module_version": "1.5.0",
            "_model_name": "HTMLModel",
            "_view_count": null,
            "_view_module": "@jupyter-widgets/controls",
            "_view_module_version": "1.5.0",
            "_view_name": "HTMLView",
            "description": "",
            "description_tooltip": null,
            "layout": "IPY_MODEL_eb67b8de41f547b9ad805c0023ccb1df",
            "placeholder": "​",
            "style": "IPY_MODEL_a38f74544ea14133934885736f3d57ca",
            "value": " 11942/11942 [1:04:08&lt;00:00,  2.52it/s]"
          }
        },
        "eb67b8de41f547b9ad805c0023ccb1df": {
          "model_module": "@jupyter-widgets/base",
          "model_module_version": "1.2.0",
          "model_name": "LayoutModel",
          "state": {
            "_model_module": "@jupyter-widgets/base",
            "_model_module_version": "1.2.0",
            "_model_name": "LayoutModel",
            "_view_count": null,
            "_view_module": "@jupyter-widgets/base",
            "_view_module_version": "1.2.0",
            "_view_name": "LayoutView",
            "align_content": null,
            "align_items": null,
            "align_self": null,
            "border": null,
            "bottom": null,
            "display": null,
            "flex": null,
            "flex_flow": null,
            "grid_area": null,
            "grid_auto_columns": null,
            "grid_auto_flow": null,
            "grid_auto_rows": null,
            "grid_column": null,
            "grid_gap": null,
            "grid_row": null,
            "grid_template_areas": null,
            "grid_template_columns": null,
            "grid_template_rows": null,
            "height": null,
            "justify_content": null,
            "justify_items": null,
            "left": null,
            "margin": null,
            "max_height": null,
            "max_width": null,
            "min_height": null,
            "min_width": null,
            "object_fit": null,
            "object_position": null,
            "order": null,
            "overflow": null,
            "overflow_x": null,
            "overflow_y": null,
            "padding": null,
            "right": null,
            "top": null,
            "visibility": null,
            "width": null
          }
        },
        "fc516465aa1047b293e49016441ce04f": {
          "model_module": "@jupyter-widgets/controls",
          "model_module_version": "1.5.0",
          "model_name": "HBoxModel",
          "state": {
            "_dom_classes": [],
            "_model_module": "@jupyter-widgets/controls",
            "_model_module_version": "1.5.0",
            "_model_name": "HBoxModel",
            "_view_count": null,
            "_view_module": "@jupyter-widgets/controls",
            "_view_module_version": "1.5.0",
            "_view_name": "HBoxView",
            "box_style": "",
            "children": [
              "IPY_MODEL_ab812f78269d445f9d6764b6cafe3f05",
              "IPY_MODEL_c0177bc8cae045d5baf6585adfbfc08d",
              "IPY_MODEL_6c0e18af046d485eb5e91df59d978a6a"
            ],
            "layout": "IPY_MODEL_d9640cab6c3b41ea86a6a29cd425af8a"
          }
        }
      }
    }
  },
  "nbformat": 4,
  "nbformat_minor": 0
}